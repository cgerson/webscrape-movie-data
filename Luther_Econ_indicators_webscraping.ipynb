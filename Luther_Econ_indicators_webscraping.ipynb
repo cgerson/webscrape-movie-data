{
 "cells": [
  {
   "cell_type": "code",
   "execution_count": 1,
   "metadata": {
    "collapsed": false
   },
   "outputs": [],
   "source": [
    "import pandas as pd\n",
    "import xlrd\n",
    "import requests\n",
    "import numpy as np\n",
    "from bs4 import BeautifulSoup\n",
    "import re\n",
    "import fnmatch\n",
    "from selenium import webdriver\n",
    "from selenium.webdriver.common.keys import Keys\n",
    "import json\n",
    "import pickle\n",
    "import csv\n",
    "from datetime import datetime\n",
    "from datetime import timedelta\n",
    "from dateutil import parser\n",
    "%matplotlib inline\n",
    "import matplotlib.pyplot as plt\n",
    "from dateutil.relativedelta import relativedelta\n",
    "import pytz"
   ]
  },
  {
   "cell_type": "code",
   "execution_count": 2,
   "metadata": {
    "collapsed": true
   },
   "outputs": [],
   "source": [
    "from patsy import dmatrices\n",
    "import statsmodels.api as sm\n",
    "import statsmodels.formula.api as smf\n",
    "import matplotlib.pyplot as plt\n",
    "import numpy as np\n",
    "import seaborn as sns\n",
    "%matplotlib inline"
   ]
  },
  {
   "cell_type": "markdown",
   "metadata": {},
   "source": [
    "### Create dataframe of economic indicators by month Jan 1945 - Dec 2009"
   ]
  },
  {
   "cell_type": "code",
   "execution_count": 2,
   "metadata": {
    "collapsed": false
   },
   "outputs": [],
   "source": [
    "df_econ = pd.read_excel(\"Luther_excel.xlsx\",set_index=True)"
   ]
  },
  {
   "cell_type": "code",
   "execution_count": 3,
   "metadata": {
    "collapsed": false
   },
   "outputs": [
    {
     "data": {
      "text/html": [
       "<div style=\"max-height:1000px;max-width:1500px;overflow:auto;\">\n",
       "<table border=\"1\" class=\"dataframe\">\n",
       "  <thead>\n",
       "    <tr style=\"text-align: right;\">\n",
       "      <th></th>\n",
       "      <th>Month</th>\n",
       "      <th>USREC</th>\n",
       "    </tr>\n",
       "  </thead>\n",
       "  <tbody>\n",
       "    <tr>\n",
       "      <th>0</th>\n",
       "      <td>1945-01-01</td>\n",
       "      <td>0</td>\n",
       "    </tr>\n",
       "    <tr>\n",
       "      <th>1</th>\n",
       "      <td>1945-02-01</td>\n",
       "      <td>0</td>\n",
       "    </tr>\n",
       "    <tr>\n",
       "      <th>2</th>\n",
       "      <td>1945-03-01</td>\n",
       "      <td>1</td>\n",
       "    </tr>\n",
       "    <tr>\n",
       "      <th>3</th>\n",
       "      <td>1945-04-01</td>\n",
       "      <td>1</td>\n",
       "    </tr>\n",
       "    <tr>\n",
       "      <th>4</th>\n",
       "      <td>1945-05-01</td>\n",
       "      <td>1</td>\n",
       "    </tr>\n",
       "  </tbody>\n",
       "</table>\n",
       "</div>"
      ],
      "text/plain": [
       "        Month  USREC\n",
       "0  1945-01-01      0\n",
       "1  1945-02-01      0\n",
       "2  1945-03-01      1\n",
       "3  1945-04-01      1\n",
       "4  1945-05-01      1"
      ]
     },
     "execution_count": 3,
     "metadata": {},
     "output_type": "execute_result"
    }
   ],
   "source": [
    "df_econ.columns = ['Month','USREC']\n",
    "df_econ['Month'] = df_econ['Month'].map(lambda x: datetime.date(x))\n",
    "df_econ.head()"
   ]
  },
  {
   "cell_type": "code",
   "execution_count": 4,
   "metadata": {
    "collapsed": false
   },
   "outputs": [],
   "source": [
    "#### Create list of recessionary periods (by month)\n",
    "\n",
    "rec_months = list(df_econ[df_econ['USREC']==1].Month)"
   ]
  },
  {
   "cell_type": "markdown",
   "metadata": {},
   "source": [
    "### Scrape actors names, total gross and number of movies from Box Office Mojo"
   ]
  },
  {
   "cell_type": "markdown",
   "metadata": {
    "collapsed": false
   },
   "source": [
    "actors_FULL,tot_gross_FULL,num_movies_FULL = [],[],[]\n",
    "pages = [1,2,4,8]\n",
    "\n",
    "for i in pages:\n",
    "    \n",
    "    url = \"http://www.boxofficemojo.com/people/?view=Actor&pagenum=\"+str(i)+\"&sort=sumgross&order=DESC&adjust_yr=2015&adjust_mo=&&p=.htm\"\n",
    "    response = requests.get(url)\n",
    "    page = response.text\n",
    "    soup = BeautifulSoup(page,\"html.parser\")\n",
    "    \n",
    "    #ACTORS\n",
    "    for link in soup.find_all('a',attrs = {'href':re.compile('/chart/')}):\n",
    "        [actors_FULL.append(str(a.text)) for a in link.find_all('b')]    \n",
    "    \n",
    "    #TOTAL GROSS\n",
    "    for link in soup.find_all('td',attrs = {'align':\"right\"}):\n",
    "        [tot_gross_FULL.append(g.text.replace(\"$\",\"\").replace(\",\",\"\").replace(\"k\",\"\")) \n",
    "         for g in link.find_all('b')]\n",
    "   \n",
    "    for n in soup.find_all('td')[12::7]:\n",
    "        num_movies_FULL.append(int(n.text))"
   ]
  },
  {
   "cell_type": "markdown",
   "metadata": {},
   "source": [
    "### Create dataframe with data from Box Office Mojo"
   ]
  },
  {
   "cell_type": "markdown",
   "metadata": {
    "collapsed": false
   },
   "source": [
    "    tot_gross_fl_FULL = [float(x) for x in tot_gross_FULL]\n",
    "    d = zip(actors_FULL,tot_gross_fl_FULL,num_movies_FULL)\n",
    "    df = pd.DataFrame(d)\n",
    "    df.columns = ['Actor','Total_Gross_2015_Dol','Num_Movies']\n",
    "    df = df.drop(df.index[726:])\n",
    "    df['Avg_Gross'] = (df['Total_Gross_2015_Dol']/df['Num_Movies']).astype(float)\n"
   ]
  },
  {
   "cell_type": "markdown",
   "metadata": {},
   "source": [
    "### Scrape Oscar data from 1980 - 2014"
   ]
  },
  {
   "cell_type": "code",
   "execution_count": 292,
   "metadata": {
    "collapsed": true
   },
   "outputs": [],
   "source": [
    "categories = range(1061,1065)\n",
    "\n",
    "for c in categories:\n",
    "    url = \"http://awardsdatabase.oscars.org/ampas_awards/BasicSearch\"\n",
    "    data = {'action': 'performSearch',\n",
    "                'BSFromYear': 53,\n",
    "                'BSToYear': 87,\n",
    "                'BSCategory': c,\n",
    "               'displayType': 1}\n",
    "    response = requests.post(url, data=data)\n",
    "\n",
    "    page = response.text\n",
    "    soup = BeautifulSoup(page,\"html.parser\")\n",
    "\n",
    "    for name in soup.find_all('a',attrs = {'href':re.compile('BSNominationID')}):\n",
    "            osc_names.append(name.text)"
   ]
  },
  {
   "cell_type": "code",
   "execution_count": 299,
   "metadata": {
    "collapsed": false
   },
   "outputs": [
    {
     "data": {
      "text/plain": [
       "1090"
      ]
     },
     "execution_count": 299,
     "metadata": {},
     "output_type": "execute_result"
    }
   ],
   "source": [
    "len(l_oscars)"
   ]
  },
  {
   "cell_type": "code",
   "execution_count": 297,
   "metadata": {
    "collapsed": false
   },
   "outputs": [],
   "source": [
    "### Convert Oscar winners/nominees to strings\n",
    "#### And create column based on Oscar win/nomination    \n",
    "    \n",
    "l_oscars = []\n",
    "\n",
    "for name in osc_names:\n",
    "    try:\n",
    "        l_oscars.append(str(name))\n",
    "    except:\n",
    "        continue\n",
    "            \n",
    "df['Oscar']=df['Actor'].map(lambda x: 1 if x in l_oscars else 0)"
   ]
  },
  {
   "cell_type": "markdown",
   "metadata": {
    "collapsed": false
   },
   "source": [
    "### Write birthday data for every actor in df to csv file birthdays.csv    \n",
    "    \n",
    "    with open(\"birthdays.csv\", 'a') as f: \n",
    "        writer=csv.writer(f)\n",
    "\n",
    "        for actor in df.Actor[700:]:\n",
    "            new_name = actor.replace(\" \",\"_\")\n",
    "            url = \"https://en.wikipedia.org/wiki/\"+new_name\n",
    "\n",
    "            response = requests.get(url)\n",
    "            page = response.text\n",
    "            soup = BeautifulSoup(page,\"html.parser\")\n",
    "\n",
    "        #for line in soup.find_all('span',attrs = {'class':re.compile('BSNominationID')}):):\n",
    "            try:\n",
    "                for line in soup.find(class_=\"bday\"):\n",
    "                    writer.writerow((actor,line))\n",
    "            except:\n",
    "                writer.writerow((actor,None))\n"
   ]
  },
  {
   "cell_type": "markdown",
   "metadata": {
    "collapsed": false
   },
   "source": [
    "#### Strip white space off birthdays when reading csv data\n",
    "\n",
    "    def strip(text):\n",
    "        try:\n",
    "            return text.strip().replace('\\n',\", \")\n",
    "        except AttributeError:\n",
    "            return text"
   ]
  },
  {
   "cell_type": "markdown",
   "metadata": {
    "collapsed": false
   },
   "source": [
    "#### Merge birthday data into dataframe\n",
    "\n",
    "    df_birthdays = pd.read_csv(\"birthdays.csv\", converters={'Birthday':strip})\n",
    "    new_df = pd.merge(df,df_birthdays,on='Actor',how='outer')"
   ]
  },
  {
   "cell_type": "markdown",
   "metadata": {
    "collapsed": false
   },
   "source": [
    "### Search for occupations on Wikipedia by Actor name\n",
    "\n",
    "    with open(\"occupations.csv\", 'a') as f: \n",
    "        writer=csv.writer(f)\n",
    "\n",
    "        for actor in df.Actor[700:]:\n",
    "            new_name = actor.replace(\" \",\"_\")\n",
    "            url = \"https://en.wikipedia.org/wiki/\"+new_name\n",
    "\n",
    "            response = requests.get(url)\n",
    "            page = response.text\n",
    "            soup = BeautifulSoup(page,\"html.parser\")\n",
    "\n",
    "            try:\n",
    "                writer.writerow((actor,soup.find(class_=\"role\").text))\n",
    "            except:\n",
    "                try:\n",
    "                    writer.writerow((actor,soup.find(scope_=\"Occupation\").text))\n",
    "                except:\n",
    "                    try: \n",
    "                        url = \"https://en.wikipedia.org/wiki/\"+new_name+\"_(actor)\"\n",
    "                        response = requests.get(url)\n",
    "                        page = response.text\n",
    "                        soup = BeautifulSoup(page,\"html.parser\")\n",
    "                        writer.writerow((actor,soup.find(class_=\"role\").text))\n",
    "                    except:\n",
    "                        try:\n",
    "                            writer.writerow((actor,soup.find(scope_=\"Occupation\").text))\n",
    "                        except:\n",
    "                            writer.writerow((actor,\"None\"))               "
   ]
  },
  {
   "cell_type": "markdown",
   "metadata": {
    "collapsed": true
   },
   "source": [
    "#### Read Occupations data\n",
    "    df_occ = pd.read_csv(\"occupations.csv\", converters={'Occupation':strip})\n",
    "\n",
    "#### Create Gender columm\n",
    "    df_occ['Gender']=df_occ['Occupation'].map(lambda x: 0 if \"actor\" in x.lower() \n",
    "                                          else 1 if \"actress\" in x.lower() else \"Unknown\")\n",
    "\n",
    "#### Dummy for people with Actors as principal occupation\n",
    "    df_occ['Occ_act_dummy'] = df_occ['Occupation'].map(lambda x: 1 if x.lower().startswith(\"actor\") or x.lower().startswith(\"actress\") else \"None\" if x==\"None\" else 0)"
   ]
  },
  {
   "cell_type": "markdown",
   "metadata": {},
   "source": [
    "#### Merge occupations data with original dataset\n",
    "    full_df = pd.merge(df,df_occ,on='Actor',how='outer')"
   ]
  },
  {
   "cell_type": "markdown",
   "metadata": {},
   "source": [
    "#### Trying to convert Birthday data into datetime objects\n",
    "\n",
    "    full_df[full_df['Birthday'].notnull()]\n",
    "\n",
    "    full_df['Birthday'] = full_df['Birthday'].fillna(0)\n",
    "\n",
    "    full_df['Birthday'] = pd.to_datetime(full_df['Birthday'])\n",
    "\n",
    "    full_df['Birthday'] = full_df['Birthday'].map(lambda x: datetime.strptime(str(x).replace(\" \",\"\"),\"%Y-%m-%d\"))"
   ]
  },
  {
   "cell_type": "markdown",
   "metadata": {},
   "source": [
    "#### Dump dataframe\n",
    "\n",
    "    with open('actors_oscars_birthday_2.pkl', 'w') as picklefile:\n",
    "        pickle.dump(full_df, picklefile)"
   ]
  },
  {
   "cell_type": "markdown",
   "metadata": {},
   "source": [
    "#### Load dataframe\n",
    "\n",
    "    with open('actors_oscars_birthday_2.pkl', 'r') as picklefile:\n",
    "        df = pickle.load(picklefile)"
   ]
  },
  {
   "cell_type": "markdown",
   "metadata": {},
   "source": [
    "#### Clean whitespaces off birthday    \n",
    "    df['Birthday'] = df['Birthday'].map(lambda x: str(x).replace(\" \",\"\"))"
   ]
  },
  {
   "cell_type": "markdown",
   "metadata": {
    "collapsed": true
   },
   "source": [
    "#### Check for whitespace in birthdays\n",
    "\n",
    "    for n in df.Birthday:\n",
    "        if type(n)==str:\n",
    "            if len(n)>10:\n",
    "                print n"
   ]
  },
  {
   "cell_type": "markdown",
   "metadata": {},
   "source": [
    "#### Set a new value (example)\n",
    "\n",
    "    new_df = df.set_value(682, 'Birthday', \"1978-06-20\")"
   ]
  },
  {
   "cell_type": "markdown",
   "metadata": {
    "collapsed": false
   },
   "source": [
    "#### Create dummy to measure principal occupation as Actor (1) or otherwise (0)\n",
    "\n",
    "    new_df['Occ_act_dummy'] = new_df['Occupation'].map(lambda x: 1 if x.lower().startswith(\"actor\") or x.lower().startswith(\"actress\") else \"None\" if x==\"None\" else 0)"
   ]
  },
  {
   "cell_type": "markdown",
   "metadata": {
    "collapsed": true
   },
   "source": [
    "#### Create Gender dummy based on occupation\n",
    "\n",
    "    new_df['Gender']=new_df['Occupation'].map(lambda x: 0 if \"actor\" in x.lower() else 1 if \"actress\" in x.lower() else \"Unknown\")"
   ]
  },
  {
   "cell_type": "code",
   "execution_count": 5,
   "metadata": {
    "collapsed": false
   },
   "outputs": [],
   "source": [
    "with open('actors_oscars_birthday_3.pkl', 'r') as picklefile:\n",
    "    df = pickle.load(picklefile)"
   ]
  },
  {
   "cell_type": "code",
   "execution_count": 16,
   "metadata": {
    "collapsed": false
   },
   "outputs": [],
   "source": [
    "#### Create age window, ages i to j\n",
    "\n",
    "def age_range(bday,i=15,j=20):\n",
    "    date_list = [datetime.date(datetime(bday.year,bday.month,1)) + \n",
    "                 relativedelta(months=x) for x in range(i*12, j*12)]\n",
    "    return date_list"
   ]
  },
  {
   "cell_type": "code",
   "execution_count": 15,
   "metadata": {
    "collapsed": false
   },
   "outputs": [],
   "source": [
    "#### Read econ csv file\n",
    "#### Count number of months in recessionary period in desired time range\n",
    "\n",
    "df_econ = pd.read_excel(\"Luther_excel.xlsx\",set_index=True)\n",
    "df_econ.columns = ['Month','USREC']\n",
    "df_econ['Month'] = df_econ['Month'].map(lambda x: datetime.date(x))\n",
    "rec_months = list(df_econ[df_econ['USREC']==1].Month)\n",
    "\n",
    "\n",
    "def count_rec_pd(actors_dates):\n",
    "\n",
    "    count = 0\n",
    "\n",
    "    for d in actors_dates:\n",
    "        if d in rec_months:\n",
    "            count+=1 \n",
    "\n",
    "    return count"
   ]
  },
  {
   "cell_type": "code",
   "execution_count": 8,
   "metadata": {
    "collapsed": true
   },
   "outputs": [],
   "source": [
    "#### Calculate age\n",
    "\n",
    "def calc_age(bday):\n",
    "    today = datetime.date(datetime.now(pytz.utc))\n",
    "    return today.year - bday.year"
   ]
  },
  {
   "cell_type": "code",
   "execution_count": 208,
   "metadata": {
    "collapsed": false
   },
   "outputs": [
    {
     "data": {
      "text/plain": [
       "75"
      ]
     },
     "execution_count": 208,
     "metadata": {},
     "output_type": "execute_result"
    }
   ],
   "source": [
    "#### Check if lists have elements in common\n",
    "\n",
    "def lists_overlap(a, b):\n",
    "    return bool(set(a) & set(b))"
   ]
  },
  {
   "cell_type": "code",
   "execution_count": 38,
   "metadata": {
    "collapsed": false
   },
   "outputs": [],
   "source": [
    "with open('actors_oscars_birthday_active_3.pkl', 'w') as picklefile:\n",
    "    pickle.dump(df, picklefile)"
   ]
  },
  {
   "cell_type": "code",
   "execution_count": 40,
   "metadata": {
    "collapsed": false
   },
   "outputs": [
    {
     "data": {
      "text/plain": [
       "<matplotlib.axes._subplots.AxesSubplot at 0x10b72ee90>"
      ]
     },
     "execution_count": 40,
     "metadata": {},
     "output_type": "execute_result"
    },
    {
     "data": {
      "image/png": "[encoded data removed]",
      "text/plain": [
       "<matplotlib.figure.Figure at 0x10ad436d0>"
      ]
     },
     "metadata": {},
     "output_type": "display_data"
    }
   ],
   "source": [
    "df.plot(x='Age_start',y='Num_Movies',kind=\"scatter\")"
   ]
  },
  {
   "cell_type": "code",
   "execution_count": 189,
   "metadata": {
    "collapsed": false,
    "scrolled": false
   },
   "outputs": [],
   "source": [
    "### Scrape \"Years active\" data from Wikipedia\n",
    "\n",
    "active = []\n",
    "for actor in actors_3:\n",
    "    new_name = actor.replace(\" \",\"_\")\n",
    "    url = \"https://en.wikipedia.org/wiki/\"+new_name\n",
    "\n",
    "    response = requests.get(url)\n",
    "    page = response.text\n",
    "    soup = BeautifulSoup(page,\"html.parser\")\n",
    "\n",
    "    try:\n",
    "        for line in soup.find(class_=re.compile('infobox')).find_all(string=re.compile('^Years')):\n",
    "            active.append((actor,line.find_next().string))\n",
    "    except:\n",
    "        try: \n",
    "            url = \"https://en.wikipedia.org/wiki/\"+new_name+\"_(actor)\"\n",
    "            response = requests.get(url)\n",
    "            page = response.text\n",
    "            soup = BeautifulSoup(page,\"html.parser\")\n",
    "            for line in soup.find(class_=re.compile('infobox')).find_all(string=re.compile('^Years')):\n",
    "                active.append((actor,line.find_next().string))\n",
    "        except:\n",
    "            active.append((actor,\"None\"))"
   ]
  },
  {
   "cell_type": "markdown",
   "metadata": {
    "collapsed": false
   },
   "source": [
    "#### Create list of strings of \"Years active\" data    \n",
    "    l = []\n",
    "    for name,years in active:\n",
    "        if years!=None:\n",
    "            l.append((name,unicode(years).encode(\"ascii\",\"ignore\")))\n",
    "            \n",
    "#### Separate \"Years active\" data into start and finish year \n",
    "    list_years_active = []\n",
    "    for k,v in l:\n",
    "        start,finish = v[:4],v[4:]\n",
    "        list_years_active.append([k,start,finish])"
   ]
  },
  {
   "cell_type": "code",
   "execution_count": 4,
   "metadata": {
    "collapsed": false
   },
   "outputs": [],
   "source": [
    "with open('actors_only.pkl', 'r') as picklefile:\n",
    "    df = pickle.load(picklefile)"
   ]
  },
  {
   "cell_type": "markdown",
   "metadata": {},
   "source": [
    "#### Check missing values\n",
    "    actors_3 = list(df[df['Career_start'].isnull()].Actor)\n",
    "    len(actors_3)"
   ]
  },
  {
   "cell_type": "markdown",
   "metadata": {},
   "source": [
    "#### Merged career start/finish data from separate scrape\n",
    "    for l in list_years_active:\n",
    "        df.set_value(df[df['Actor']==l[0]].index, 'Career_start', l[1])"
   ]
  },
  {
   "cell_type": "code",
   "execution_count": 297,
   "metadata": {
    "collapsed": false
   },
   "outputs": [],
   "source": [
    "#### Convert date of career start to integer\n",
    "df['Career_start'] = df['Career_start'].map(lambda x: int(x) if str(x).isdigit() else None)"
   ]
  },
  {
   "cell_type": "code",
   "execution_count": 254,
   "metadata": {
    "collapsed": false
   },
   "outputs": [],
   "source": [
    "codebook = {\n",
    "    \"Actor\": \"unique ID\",\n",
    "    \"Total_Gross_2015_Dol\": \"Amount grossed by films featuring this actor\",\n",
    "    \"Num_movies\": \"Number of movies used to calculate total gross\",\n",
    "    \"Avg_Gross\": \"Total gross divided by number of movies\",\n",
    "    \"Oscar\": \"Dummy variable 1 for Oscar win/nomination\",\n",
    "    \"Birthday\": \"Actor's birthday (datetime object)\",\n",
    "    \"Occupation\": \"Individual's occupation (source: Wikipedia)\",\n",
    "    \"Gender\": \"Actor's gender based on Actor/Actress designation\",    \n",
    "    \"Occ_act_dummy\": \"Dummy variable 1 for actor as primary occupation (source: Wikipedia)\",\n",
    "    \"Num_months_rec_pd_15_20\": \"Count of months in US economic recession between ages 15-20\",\n",
    "    \"Num_months_rec_pd_0_15\": \"Count of months in US economic recession between ages 0-15\",\n",
    "    \"Age\": \"Age of actor\",\n",
    "    \"Career_start\": \"Year acting career began (source: Wikipedia)\",\n",
    "    \"Career_fin\": \"Year acting career ended (source: Wikipedia)\"\n",
    "}"
   ]
  },
  {
   "cell_type": "code",
   "execution_count": 311,
   "metadata": {
    "collapsed": false
   },
   "outputs": [
    {
     "name": "stderr",
     "output_type": "stream",
     "text": [
      "/usr/local/lib/python2.7/site-packages/IPython/kernel/__main__.py:1: SettingWithCopyWarning: \n",
      "A value is trying to be set on a copy of a slice from a DataFrame.\n",
      "Try using .loc[row_indexer,col_indexer] = value instead\n",
      "\n",
      "See the the caveats in the documentation: http://pandas.pydata.org/pandas-docs/stable/indexing.html#indexing-view-versus-copy\n",
      "  if __name__ == '__main__':\n"
     ]
    }
   ],
   "source": [
    "df_only_actors['Age_start'] = df_only_actors['Career_start'] - (2015 - df_only_actors['Age'])"
   ]
  },
  {
   "cell_type": "code",
   "execution_count": 22,
   "metadata": {
    "collapsed": false
   },
   "outputs": [
    {
     "data": {
      "text/html": [
       "<div style=\"max-height:1000px;max-width:1500px;overflow:auto;\">\n",
       "<table border=\"1\" class=\"dataframe\">\n",
       "  <thead>\n",
       "    <tr style=\"text-align: right;\">\n",
       "      <th></th>\n",
       "      <th>Actor</th>\n",
       "      <th>Total_Gross_2015_Dol</th>\n",
       "      <th>Num_Movies</th>\n",
       "      <th>Avg_Gross</th>\n",
       "      <th>Oscar</th>\n",
       "      <th>Birthday</th>\n",
       "      <th>Occupation</th>\n",
       "      <th>Gender</th>\n",
       "      <th>Occ_act_dummy</th>\n",
       "      <th>Num_months_rec_pd_15_20</th>\n",
       "      <th>Num_months_rec_pd_0_15</th>\n",
       "      <th>Age</th>\n",
       "      <th>Career_start</th>\n",
       "      <th>Career_fin</th>\n",
       "      <th>Age_start</th>\n",
       "      <th>Num_months_rec_pd_0_5</th>\n",
       "      <th>Num_months_rec_pd_5_10</th>\n",
       "      <th>Num_months_rec_pd_10_15</th>\n",
       "      <th>Num_months_rec_pd_20_25</th>\n",
       "      <th>Years_acting</th>\n",
       "    </tr>\n",
       "  </thead>\n",
       "  <tbody>\n",
       "    <tr>\n",
       "      <th>0</th>\n",
       "      <td>Harrison Ford</td>\n",
       "      <td>8116.1</td>\n",
       "      <td>40</td>\n",
       "      <td>202.902500</td>\n",
       "      <td>1</td>\n",
       "      <td>1942-07-13</td>\n",
       "      <td>Actor, producer</td>\n",
       "      <td>0</td>\n",
       "      <td>1</td>\n",
       "      <td>18</td>\n",
       "      <td>29</td>\n",
       "      <td>73</td>\n",
       "      <td>1966</td>\n",
       "      <td>present</td>\n",
       "      <td>24</td>\n",
       "      <td>8</td>\n",
       "      <td>11</td>\n",
       "      <td>10</td>\n",
       "      <td>0</td>\n",
       "      <td>49</td>\n",
       "    </tr>\n",
       "    <tr>\n",
       "      <th>1</th>\n",
       "      <td>Tom Hanks</td>\n",
       "      <td>6676.6</td>\n",
       "      <td>42</td>\n",
       "      <td>158.966667</td>\n",
       "      <td>1</td>\n",
       "      <td>1956-07-09</td>\n",
       "      <td>Actor, filmmaker</td>\n",
       "      <td>0</td>\n",
       "      <td>1</td>\n",
       "      <td>16</td>\n",
       "      <td>29</td>\n",
       "      <td>59</td>\n",
       "      <td>1978</td>\n",
       "      <td>present</td>\n",
       "      <td>22</td>\n",
       "      <td>18</td>\n",
       "      <td>0</td>\n",
       "      <td>11</td>\n",
       "      <td>6</td>\n",
       "      <td>37</td>\n",
       "    </tr>\n",
       "    <tr>\n",
       "      <th>2</th>\n",
       "      <td>Samuel L. Jackson</td>\n",
       "      <td>5722.3</td>\n",
       "      <td>66</td>\n",
       "      <td>86.701515</td>\n",
       "      <td>1</td>\n",
       "      <td>1948-12-21</td>\n",
       "      <td>Actor, film producer</td>\n",
       "      <td>0</td>\n",
       "      <td>1</td>\n",
       "      <td>0</td>\n",
       "      <td>39</td>\n",
       "      <td>67</td>\n",
       "      <td>1972</td>\n",
       "      <td>present</td>\n",
       "      <td>24</td>\n",
       "      <td>15</td>\n",
       "      <td>14</td>\n",
       "      <td>10</td>\n",
       "      <td>11</td>\n",
       "      <td>43</td>\n",
       "    </tr>\n",
       "    <tr>\n",
       "      <th>3</th>\n",
       "      <td>Morgan Freeman</td>\n",
       "      <td>5587.5</td>\n",
       "      <td>58</td>\n",
       "      <td>96.336207</td>\n",
       "      <td>1</td>\n",
       "      <td>1937-06-01</td>\n",
       "      <td>Actor, director</td>\n",
       "      <td>0</td>\n",
       "      <td>1</td>\n",
       "      <td>10</td>\n",
       "      <td>19</td>\n",
       "      <td>78</td>\n",
       "      <td>1964</td>\n",
       "      <td>present</td>\n",
       "      <td>27</td>\n",
       "      <td>0</td>\n",
       "      <td>8</td>\n",
       "      <td>11</td>\n",
       "      <td>18</td>\n",
       "      <td>51</td>\n",
       "    </tr>\n",
       "    <tr>\n",
       "      <th>4</th>\n",
       "      <td>Tom Cruise</td>\n",
       "      <td>5456.0</td>\n",
       "      <td>35</td>\n",
       "      <td>155.885714</td>\n",
       "      <td>1</td>\n",
       "      <td>1962-07-03</td>\n",
       "      <td>Actor, filmmaker</td>\n",
       "      <td>0</td>\n",
       "      <td>1</td>\n",
       "      <td>17</td>\n",
       "      <td>27</td>\n",
       "      <td>53</td>\n",
       "      <td>1981</td>\n",
       "      <td>present</td>\n",
       "      <td>19</td>\n",
       "      <td>0</td>\n",
       "      <td>11</td>\n",
       "      <td>16</td>\n",
       "      <td>5</td>\n",
       "      <td>34</td>\n",
       "    </tr>\n",
       "  </tbody>\n",
       "</table>\n",
       "</div>"
      ],
      "text/plain": [
       "               Actor  Total_Gross_2015_Dol  Num_Movies   Avg_Gross  Oscar  \\\n",
       "0      Harrison Ford                8116.1          40  202.902500      1   \n",
       "1          Tom Hanks                6676.6          42  158.966667      1   \n",
       "2  Samuel L. Jackson                5722.3          66   86.701515      1   \n",
       "3     Morgan Freeman                5587.5          58   96.336207      1   \n",
       "4         Tom Cruise                5456.0          35  155.885714      1   \n",
       "\n",
       "     Birthday            Occupation Gender Occ_act_dummy  \\\n",
       "0  1942-07-13       Actor, producer      0             1   \n",
       "1  1956-07-09      Actor, filmmaker      0             1   \n",
       "2  1948-12-21  Actor, film producer      0             1   \n",
       "3  1937-06-01       Actor, director      0             1   \n",
       "4  1962-07-03      Actor, filmmaker      0             1   \n",
       "\n",
       "   Num_months_rec_pd_15_20  Num_months_rec_pd_0_15  Age  Career_start  \\\n",
       "0                       18                      29   73          1966   \n",
       "1                       16                      29   59          1978   \n",
       "2                        0                      39   67          1972   \n",
       "3                       10                      19   78          1964   \n",
       "4                       17                      27   53          1981   \n",
       "\n",
       "  Career_fin  Age_start  Num_months_rec_pd_0_5  Num_months_rec_pd_5_10  \\\n",
       "0    present         24                      8                      11   \n",
       "1    present         22                     18                       0   \n",
       "2    present         24                     15                      14   \n",
       "3    present         27                      0                       8   \n",
       "4    present         19                      0                      11   \n",
       "\n",
       "   Num_months_rec_pd_10_15  Num_months_rec_pd_20_25  Years_acting  \n",
       "0                       10                        0            49  \n",
       "1                       11                        6            37  \n",
       "2                       10                       11            43  \n",
       "3                       11                       18            51  \n",
       "4                       16                        5            34  "
      ]
     },
     "execution_count": 22,
     "metadata": {},
     "output_type": "execute_result"
    }
   ],
   "source": [
    "df.head()"
   ]
  },
  {
   "cell_type": "code",
   "execution_count": 10,
   "metadata": {
    "collapsed": false
   },
   "outputs": [],
   "source": [
    "df['Num_months_rec_pd_0_5']=df['Birthday'].map(lambda x: count_rec_pd(age_range(x,0,5)))\n",
    "df['Num_months_rec_pd_5_10']=df['Birthday'].map(lambda x: count_rec_pd(age_range(x,5,10)))\n",
    "df['Num_months_rec_pd_10_15']=df['Birthday'].map(lambda x: count_rec_pd(age_range(x,10,15)))\n",
    "df['Num_months_rec_pd_20_25']=df['Birthday'].map(lambda x: count_rec_pd(age_range(x,20,25)))"
   ]
  },
  {
   "cell_type": "code",
   "execution_count": 17,
   "metadata": {
    "collapsed": true
   },
   "outputs": [],
   "source": [
    "df['Num_months_rec_pd_15_20']=df['Birthday'].map(lambda x: count_rec_pd(age_range(x,15,20)))"
   ]
  },
  {
   "cell_type": "code",
   "execution_count": 24,
   "metadata": {
    "collapsed": false
   },
   "outputs": [],
   "source": [
    "df['Years_acting']=df['Age']-df['Age_start']"
   ]
  },
  {
   "cell_type": "code",
   "execution_count": 53,
   "metadata": {
    "collapsed": false
   },
   "outputs": [],
   "source": [
    "y, X = dmatrices('Avg_Gross ~ Years_acting + Gender + Num_Movies + Oscar + Num_months_rec_pd_0_5 + Num_months_rec_pd_5_10 + Num_months_rec_pd_10_15 + Num_months_rec_pd_15_20 + Num_months_rec_pd_20_25', data=df_2, return_type='dataframe')"
   ]
  },
  {
   "cell_type": "code",
   "execution_count": 17,
   "metadata": {
    "collapsed": false
   },
   "outputs": [
    {
     "data": {
      "text/plain": [
       "<matplotlib.collections.PathCollection at 0x109ec1fd0>"
      ]
     },
     "execution_count": 17,
     "metadata": {},
     "output_type": "execute_result"
    },
    {
     "data": {
      "image/png": "[encoded data removed]",
      "text/plain": [
       "<matplotlib.figure.Figure at 0x109cdfe90>"
      ]
     },
     "metadata": {},
     "output_type": "display_data"
    }
   ],
   "source": [
    "plt.scatter(df.Age_start,df.Avg_Gross)"
   ]
  },
  {
   "cell_type": "code",
   "execution_count": 31,
   "metadata": {
    "collapsed": false
   },
   "outputs": [],
   "source": [
    "df_2 = df[np.isfinite(df['Age_start'])]"
   ]
  },
  {
   "cell_type": "code",
   "execution_count": 54,
   "metadata": {
    "collapsed": true
   },
   "outputs": [],
   "source": [
    "fit = sm.OLS(y, X).fit()"
   ]
  },
  {
   "cell_type": "code",
   "execution_count": 55,
   "metadata": {
    "collapsed": false
   },
   "outputs": [
    {
     "name": "stdout",
     "output_type": "stream",
     "text": [
      "                            OLS Regression Results                            \n",
      "==============================================================================\n",
      "Dep. Variable:              Avg_Gross   R-squared:                       0.061\n",
      "Model:                            OLS   Adj. R-squared:                  0.047\n",
      "Method:                 Least Squares   F-statistic:                     4.376\n",
      "Date:                Tue, 14 Jul 2015   Prob (F-statistic):           1.49e-05\n",
      "Time:                        11:44:59   Log-Likelihood:                -3132.7\n",
      "No. Observations:                 617   AIC:                             6285.\n",
      "Df Residuals:                     607   BIC:                             6330.\n",
      "Df Model:                           9                                         \n",
      "Covariance Type:            nonrobust                                         \n",
      "===========================================================================================\n",
      "                              coef    std err          t      P>|t|      [95.0% Conf. Int.]\n",
      "-------------------------------------------------------------------------------------------\n",
      "Intercept                  64.9915      7.176      9.057      0.000        50.900    79.083\n",
      "Gender[T.1]               -10.0069      3.354     -2.983      0.003       -16.594    -3.419\n",
      "Years_acting                0.6302      0.147      4.278      0.000         0.341     0.919\n",
      "Num_Movies                 -0.2737      0.167     -1.643      0.101        -0.601     0.053\n",
      "Oscar                       4.4261      4.161      1.064      0.288        -3.745    12.597\n",
      "Num_months_rec_pd_0_5      -0.0173      0.275     -0.063      0.950        -0.557     0.523\n",
      "Num_months_rec_pd_5_10     -0.3322      0.268     -1.241      0.215        -0.858     0.193\n",
      "Num_months_rec_pd_10_15    -0.4283      0.241     -1.780      0.076        -0.901     0.044\n",
      "Num_months_rec_pd_15_20     0.1419      0.294      0.483      0.629        -0.435     0.719\n",
      "Num_months_rec_pd_20_25    -0.3936      0.282     -1.396      0.163        -0.947     0.160\n",
      "==============================================================================\n",
      "Omnibus:                      251.806   Durbin-Watson:                   1.527\n",
      "Prob(Omnibus):                  0.000   Jarque-Bera (JB):             1231.174\n",
      "Skew:                           1.792   Prob(JB):                    4.51e-268\n",
      "Kurtosis:                       8.920   Cond. No.                         189.\n",
      "==============================================================================\n",
      "\n",
      "Warnings:\n",
      "[1] Standard Errors assume that the covariance matrix of the errors is correctly specified.\n"
     ]
    }
   ],
   "source": [
    "print fit.summary()"
   ]
  },
  {
   "cell_type": "code",
   "execution_count": 38,
   "metadata": {
    "collapsed": false
   },
   "outputs": [
    {
     "data": {
      "text/plain": [
       "<matplotlib.collections.PathCollection at 0x10ad4dbd0>"
      ]
     },
     "execution_count": 38,
     "metadata": {},
     "output_type": "execute_result"
    },
    {
     "data": {
      "image/png": "[encoded data removed]",
      "text/plain": [
       "<matplotlib.figure.Figure at 0x10ac72790>"
      ]
     },
     "metadata": {},
     "output_type": "display_data"
    }
   ],
   "source": [
    "plt.scatter(df_2.Years_acting,fit.resid)"
   ]
  },
  {
   "cell_type": "code",
   "execution_count": 58,
   "metadata": {
    "collapsed": false
   },
   "outputs": [
    {
     "data": {
      "text/plain": [
       "<seaborn.axisgrid.FacetGrid at 0x10b04b8d0>"
      ]
     },
     "execution_count": 58,
     "metadata": {},
     "output_type": "execute_result"
    },
    {
     "data": {
      "image/png": "[encoded data removed]",
      "text/plain": [
       "<matplotlib.figure.Figure at 0x10a8e5c10>"
      ]
     },
     "metadata": {},
     "output_type": "display_data"
    }
   ],
   "source": [
    "sns.lmplot(x=\"Age_start\", y=\"Avg_Gross\",\n",
    "           col=\"Gender\", data=df_2)"
   ]
  },
  {
   "cell_type": "code",
   "execution_count": 65,
   "metadata": {
    "collapsed": false
   },
   "outputs": [],
   "source": [
    "gb = df.groupby('Age_start')"
   ]
  },
  {
   "cell_type": "code",
   "execution_count": 66,
   "metadata": {
    "collapsed": false
   },
   "outputs": [
    {
     "data": {
      "text/plain": [
       "[<matplotlib.lines.Line2D at 0x10dec72d0>]"
      ]
     },
     "execution_count": 66,
     "metadata": {},
     "output_type": "execute_result"
    },
    {
     "data": {
      "image/png": "[encoded data removed]",
      "text/plain": [
       "<matplotlib.figure.Figure at 0x10dc6e910>"
      ]
     },
     "metadata": {},
     "output_type": "display_data"
    }
   ],
   "source": [
    "plt.plot(gb.Avg_Gross.mean())"
   ]
  },
  {
   "cell_type": "code",
   "execution_count": 393,
   "metadata": {
    "collapsed": false
   },
   "outputs": [
    {
     "data": {
      "text/plain": [
       "<Container object of 2 artists>"
      ]
     },
     "execution_count": 393,
     "metadata": {},
     "output_type": "execute_result"
    },
    {
     "data": {
      "image/png": "[encoded data removed]",
      "text/plain": [
       "<matplotlib.figure.Figure at 0x1378ddb10>"
      ]
     },
     "metadata": {},
     "output_type": "display_data"
    }
   ],
   "source": [
    "ind = np.arange(2) \n",
    "plt.bar(ind,gb.Avg_Gross.mean())"
   ]
  },
  {
   "cell_type": "code",
   "execution_count": 17,
   "metadata": {
    "collapsed": false
   },
   "outputs": [],
   "source": [
    "df = df.reset_index(drop=True)"
   ]
  },
  {
   "cell_type": "code",
   "execution_count": 18,
   "metadata": {
    "collapsed": false
   },
   "outputs": [
    {
     "data": {
      "text/plain": [
       "<matplotlib.text.Text at 0x109f58ed0>"
      ]
     },
     "execution_count": 18,
     "metadata": {},
     "output_type": "execute_result"
    },
    {
     "data": {
      "image/png": "[encoded data removed]",
      "text/plain": [
       "<matplotlib.figure.Figure at 0x109ba2cd0>"
      ]
     },
     "metadata": {},
     "output_type": "display_data"
    }
   ],
   "source": [
    "fig, ax = plt.subplots()\n",
    "ax.plot(df.Age_start, df.Avg_Gross, 'o', label=\"Age start\")\n",
    "#ax.plot(df.Num_Movies, df.Avg_Gross, 'o', label=\"Num Movies\")\n",
    "ax.plot(df.Years_acting, df.Avg_Gross, 'o', label=\"Age\")\n",
    "ax.legend(loc=\"best\")\n",
    "plt.title(\"Avg Gross\")"
   ]
  },
  {
   "cell_type": "code",
   "execution_count": 32,
   "metadata": {
    "collapsed": false
   },
   "outputs": [
    {
     "data": {
      "text/plain": [
       "<matplotlib.axes._subplots.AxesSubplot at 0x10b0734d0>"
      ]
     },
     "execution_count": 32,
     "metadata": {},
     "output_type": "execute_result"
    },
    {
     "data": {
      "image/png": "[encoded data removed]",
      "text/plain": [
       "<matplotlib.figure.Figure at 0x10a0fd510>"
      ]
     },
     "metadata": {},
     "output_type": "display_data"
    }
   ],
   "source": [
    "# Distribution of dependent variable (Avg_Gross)\n",
    "sns.distplot(df.Avg_Gross)"
   ]
  },
  {
   "cell_type": "code",
   "execution_count": 20,
   "metadata": {
    "collapsed": false
   },
   "outputs": [],
   "source": [
    "df_a = df.groupby('Age')"
   ]
  },
  {
   "cell_type": "code",
   "execution_count": 25,
   "metadata": {
    "collapsed": false
   },
   "outputs": [
    {
     "data": {
      "text/plain": [
       "<matplotlib.axes._subplots.AxesSubplot at 0x10b2d7490>"
      ]
     },
     "execution_count": 25,
     "metadata": {},
     "output_type": "execute_result"
    },
    {
     "data": {
      "image/png": "[encoded data removed]",
      "text/plain": [
       "<matplotlib.figure.Figure at 0x10ad3ac10>"
      ]
     },
     "metadata": {},
     "output_type": "display_data"
    }
   ],
   "source": [
    "sns.distplot(df_a.Avg_Gross.mean(),vertical=True)"
   ]
  },
  {
   "cell_type": "code",
   "execution_count": 29,
   "metadata": {
    "collapsed": false
   },
   "outputs": [
    {
     "data": {
      "text/plain": [
       "626"
      ]
     },
     "execution_count": 29,
     "metadata": {},
     "output_type": "execute_result"
    }
   ],
   "source": [
    "len(df.Avg_Gross)"
   ]
  },
  {
   "cell_type": "code",
   "execution_count": 79,
   "metadata": {
    "collapsed": false
   },
   "outputs": [
    {
     "data": {
      "text/plain": [
       "<seaborn.axisgrid.FacetGrid at 0x1102c01d0>"
      ]
     },
     "execution_count": 79,
     "metadata": {},
     "output_type": "execute_result"
    },
    {
     "data": {
      "image/png": "[encoded data removed]",
      "text/plain": [
       "<matplotlib.figure.Figure at 0x1109db1d0>"
      ]
     },
     "metadata": {},
     "output_type": "display_data"
    }
   ],
   "source": [
    "# More years acting are positively correlated with higher average gross of movies for women\n",
    "sns.lmplot(x=\"Years_acting\", y=\"Avg_Gross\", hue=\"Oscar\", col = \"Gender\", data=df)"
   ]
  },
  {
   "cell_type": "code",
   "execution_count": 8,
   "metadata": {
    "collapsed": false
   },
   "outputs": [
    {
     "data": {
      "text/plain": [
       "<seaborn.axisgrid.FacetGrid at 0x109108850>"
      ]
     },
     "execution_count": 8,
     "metadata": {},
     "output_type": "execute_result"
    },
    {
     "data": {
      "image/png": "[encoded data removed]",
      "text/plain": [
       "<matplotlib.figure.Figure at 0x109108290>"
      ]
     },
     "metadata": {},
     "output_type": "display_data"
    }
   ],
   "source": [
    "sns.lmplot(x=\"Num_months_rec_pd_15_20\", y=\"Avg_Gross\", col = \"Gender\", data=df)"
   ]
  },
  {
   "cell_type": "code",
   "execution_count": 60,
   "metadata": {
    "collapsed": true
   },
   "outputs": [],
   "source": [
    "with open('actors_only_2.pkl','w') as picklefile:\n",
    "    pickle.dump(df_2,picklefile)"
   ]
  },
  {
   "cell_type": "code",
   "execution_count": 3,
   "metadata": {
    "collapsed": false
   },
   "outputs": [],
   "source": [
    "with open('actors_only_2.pkl','r') as picklefile:\n",
    "    df = pickle.load(picklefile)"
   ]
  },
  {
   "cell_type": "code",
   "execution_count": 18,
   "metadata": {
    "collapsed": false
   },
   "outputs": [
    {
     "data": {
      "text/html": [
       "<div style=\"max-height:1000px;max-width:1500px;overflow:auto;\">\n",
       "<table border=\"1\" class=\"dataframe\">\n",
       "  <thead>\n",
       "    <tr style=\"text-align: right;\">\n",
       "      <th></th>\n",
       "      <th>Actor</th>\n",
       "      <th>Total_Gross_2015_Dol</th>\n",
       "      <th>Num_Movies</th>\n",
       "      <th>Avg_Gross</th>\n",
       "      <th>Oscar</th>\n",
       "      <th>Birthday</th>\n",
       "      <th>Occupation</th>\n",
       "      <th>Gender</th>\n",
       "      <th>Occ_act_dummy</th>\n",
       "      <th>Num_months_rec_pd_15_20</th>\n",
       "      <th>Num_months_rec_pd_0_15</th>\n",
       "      <th>Age</th>\n",
       "      <th>Career_start</th>\n",
       "      <th>Career_fin</th>\n",
       "      <th>Age_start</th>\n",
       "      <th>Num_months_rec_pd_0_5</th>\n",
       "      <th>Num_months_rec_pd_5_10</th>\n",
       "      <th>Num_months_rec_pd_10_15</th>\n",
       "      <th>Num_months_rec_pd_20_25</th>\n",
       "      <th>Years_acting</th>\n",
       "    </tr>\n",
       "  </thead>\n",
       "  <tbody>\n",
       "    <tr>\n",
       "      <th>0</th>\n",
       "      <td>Harrison Ford</td>\n",
       "      <td>8116.1</td>\n",
       "      <td>40</td>\n",
       "      <td>202.902500</td>\n",
       "      <td>1</td>\n",
       "      <td>1942-07-13</td>\n",
       "      <td>Actor, producer</td>\n",
       "      <td>0</td>\n",
       "      <td>1</td>\n",
       "      <td>18</td>\n",
       "      <td>29</td>\n",
       "      <td>73</td>\n",
       "      <td>1966</td>\n",
       "      <td>present</td>\n",
       "      <td>24</td>\n",
       "      <td>8</td>\n",
       "      <td>11</td>\n",
       "      <td>10</td>\n",
       "      <td>0</td>\n",
       "      <td>49</td>\n",
       "    </tr>\n",
       "    <tr>\n",
       "      <th>1</th>\n",
       "      <td>Tom Hanks</td>\n",
       "      <td>6676.6</td>\n",
       "      <td>42</td>\n",
       "      <td>158.966667</td>\n",
       "      <td>1</td>\n",
       "      <td>1956-07-09</td>\n",
       "      <td>Actor, filmmaker</td>\n",
       "      <td>0</td>\n",
       "      <td>1</td>\n",
       "      <td>16</td>\n",
       "      <td>29</td>\n",
       "      <td>59</td>\n",
       "      <td>1978</td>\n",
       "      <td>present</td>\n",
       "      <td>22</td>\n",
       "      <td>18</td>\n",
       "      <td>0</td>\n",
       "      <td>11</td>\n",
       "      <td>6</td>\n",
       "      <td>37</td>\n",
       "    </tr>\n",
       "    <tr>\n",
       "      <th>2</th>\n",
       "      <td>Samuel L. Jackson</td>\n",
       "      <td>5722.3</td>\n",
       "      <td>66</td>\n",
       "      <td>86.701515</td>\n",
       "      <td>1</td>\n",
       "      <td>1948-12-21</td>\n",
       "      <td>Actor, film producer</td>\n",
       "      <td>0</td>\n",
       "      <td>1</td>\n",
       "      <td>0</td>\n",
       "      <td>39</td>\n",
       "      <td>67</td>\n",
       "      <td>1972</td>\n",
       "      <td>present</td>\n",
       "      <td>24</td>\n",
       "      <td>15</td>\n",
       "      <td>14</td>\n",
       "      <td>10</td>\n",
       "      <td>11</td>\n",
       "      <td>43</td>\n",
       "    </tr>\n",
       "    <tr>\n",
       "      <th>3</th>\n",
       "      <td>Morgan Freeman</td>\n",
       "      <td>5587.5</td>\n",
       "      <td>58</td>\n",
       "      <td>96.336207</td>\n",
       "      <td>1</td>\n",
       "      <td>1937-06-01</td>\n",
       "      <td>Actor, director</td>\n",
       "      <td>0</td>\n",
       "      <td>1</td>\n",
       "      <td>10</td>\n",
       "      <td>19</td>\n",
       "      <td>78</td>\n",
       "      <td>1964</td>\n",
       "      <td>present</td>\n",
       "      <td>27</td>\n",
       "      <td>0</td>\n",
       "      <td>8</td>\n",
       "      <td>11</td>\n",
       "      <td>18</td>\n",
       "      <td>51</td>\n",
       "    </tr>\n",
       "    <tr>\n",
       "      <th>4</th>\n",
       "      <td>Tom Cruise</td>\n",
       "      <td>5456.0</td>\n",
       "      <td>35</td>\n",
       "      <td>155.885714</td>\n",
       "      <td>1</td>\n",
       "      <td>1962-07-03</td>\n",
       "      <td>Actor, filmmaker</td>\n",
       "      <td>0</td>\n",
       "      <td>1</td>\n",
       "      <td>17</td>\n",
       "      <td>27</td>\n",
       "      <td>53</td>\n",
       "      <td>1981</td>\n",
       "      <td>present</td>\n",
       "      <td>19</td>\n",
       "      <td>0</td>\n",
       "      <td>11</td>\n",
       "      <td>16</td>\n",
       "      <td>5</td>\n",
       "      <td>34</td>\n",
       "    </tr>\n",
       "  </tbody>\n",
       "</table>\n",
       "</div>"
      ],
      "text/plain": [
       "               Actor  Total_Gross_2015_Dol  Num_Movies   Avg_Gross  Oscar  \\\n",
       "0      Harrison Ford                8116.1          40  202.902500      1   \n",
       "1          Tom Hanks                6676.6          42  158.966667      1   \n",
       "2  Samuel L. Jackson                5722.3          66   86.701515      1   \n",
       "3     Morgan Freeman                5587.5          58   96.336207      1   \n",
       "4         Tom Cruise                5456.0          35  155.885714      1   \n",
       "\n",
       "     Birthday            Occupation Gender Occ_act_dummy  \\\n",
       "0  1942-07-13       Actor, producer      0             1   \n",
       "1  1956-07-09      Actor, filmmaker      0             1   \n",
       "2  1948-12-21  Actor, film producer      0             1   \n",
       "3  1937-06-01       Actor, director      0             1   \n",
       "4  1962-07-03      Actor, filmmaker      0             1   \n",
       "\n",
       "   Num_months_rec_pd_15_20  Num_months_rec_pd_0_15  Age  Career_start  \\\n",
       "0                       18                      29   73          1966   \n",
       "1                       16                      29   59          1978   \n",
       "2                        0                      39   67          1972   \n",
       "3                       10                      19   78          1964   \n",
       "4                       17                      27   53          1981   \n",
       "\n",
       "  Career_fin  Age_start  Num_months_rec_pd_0_5  Num_months_rec_pd_5_10  \\\n",
       "0    present         24                      8                      11   \n",
       "1    present         22                     18                       0   \n",
       "2    present         24                     15                      14   \n",
       "3    present         27                      0                       8   \n",
       "4    present         19                      0                      11   \n",
       "\n",
       "   Num_months_rec_pd_10_15  Num_months_rec_pd_20_25  Years_acting  \n",
       "0                       10                        0            49  \n",
       "1                       11                        6            37  \n",
       "2                       10                       11            43  \n",
       "3                       11                       18            51  \n",
       "4                       16                        5            34  "
      ]
     },
     "execution_count": 18,
     "metadata": {},
     "output_type": "execute_result"
    }
   ],
   "source": [
    "df.head()"
   ]
  },
  {
   "cell_type": "code",
   "execution_count": 24,
   "metadata": {
    "collapsed": false
   },
   "outputs": [
    {
     "data": {
      "text/plain": [
       "<matplotlib.axes._subplots.AxesSubplot at 0x10ad5fcd0>"
      ]
     },
     "execution_count": 24,
     "metadata": {},
     "output_type": "execute_result"
    },
    {
     "data": {
      "image/png": "[encoded data removed]",
      "text/plain": [
       "<matplotlib.figure.Figure at 0x10adf6110>"
      ]
     },
     "metadata": {},
     "output_type": "display_data"
    }
   ],
   "source": [
    "sns.distplot(df.Age,bins=20)"
   ]
  },
  {
   "cell_type": "code",
   "execution_count": null,
   "metadata": {
    "collapsed": true
   },
   "outputs": [],
   "source": []
  }
 ],
 "metadata": {
  "kernelspec": {
   "display_name": "Python 2",
   "language": "python",
   "name": "python2"
  },
  "language_info": {
   "codemirror_mode": {
    "name": "ipython",
    "version": 2
   },
   "file_extension": ".py",
   "mimetype": "text/x-python",
   "name": "python",
   "nbconvert_exporter": "python",
   "pygments_lexer": "ipython2",
   "version": "2.7.10"
  }
 },
 "nbformat": 4,
 "nbformat_minor": 0
}
