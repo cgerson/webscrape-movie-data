{
 "cells": [
  {
   "cell_type": "code",
   "execution_count": 327,
   "metadata": {
    "collapsed": true
   },
   "outputs": [],
   "source": [
    "import pickle\n",
    "import pandas as pd\n",
    "from patsy import dmatrices\n",
    "import statsmodels.api as sm\n",
    "import statsmodels.formula.api as smf\n",
    "import matplotlib.pyplot as plt\n",
    "import numpy as np\n",
    "import seaborn as sns\n",
    "from random import shuffle\n",
    "import math\n",
    "import random\n",
    "from sklearn.metrics import mean_squared_error\n",
    "import sklearn\n",
    "import seaborn\n",
    "%matplotlib inline"
   ]
  },
  {
   "cell_type": "markdown",
   "metadata": {},
   "source": [
    "## Challenge 1"
   ]
  },
  {
   "cell_type": "code",
   "execution_count": 328,
   "metadata": {
    "collapsed": true
   },
   "outputs": [],
   "source": [
    "np.random.seed(42)\n",
    "nsample = 50\n",
    "x1 = np.linspace(1.0, 20.0, nsample)\n",
    "sig = .125\n",
    "X = [np.log(x) for x in x1] # Create parameter\n",
    "X = sm.add_constant(X)\n",
    "X1 = sm.add_constant(x1)\n",
    "\n",
    "beta = [5., 1.5] # Create parameter coefficients"
   ]
  },
  {
   "cell_type": "code",
   "execution_count": 329,
   "metadata": {
    "collapsed": false
   },
   "outputs": [],
   "source": [
    "y_true = np.dot(X,beta)\n",
    "y = y_true + sig*np.random.normal(size=nsample) # Add epsilon"
   ]
  },
  {
   "cell_type": "code",
   "execution_count": 330,
   "metadata": {
    "collapsed": true
   },
   "outputs": [],
   "source": [
    "df = pd.DataFrame(x1,y)"
   ]
  },
  {
   "cell_type": "code",
   "execution_count": 331,
   "metadata": {
    "collapsed": false
   },
   "outputs": [],
   "source": [
    "df = df.reset_index()"
   ]
  },
  {
   "cell_type": "code",
   "execution_count": 332,
   "metadata": {
    "collapsed": false
   },
   "outputs": [],
   "source": [
    "df.columns = ['y','x1']"
   ]
  },
  {
   "cell_type": "code",
   "execution_count": 333,
   "metadata": {
    "collapsed": false
   },
   "outputs": [
    {
     "data": {
      "text/plain": [
       "[<matplotlib.lines.Line2D at 0x11249ff50>]"
      ]
     },
     "execution_count": 333,
     "metadata": {},
     "output_type": "execute_result"
    },
    {
     "data": {
      "image/png": "[encoded data removed]",
      "text/plain": [
       "<matplotlib.figure.Figure at 0x11145d9d0>"
      ]
     },
     "metadata": {},
     "output_type": "display_data"
    }
   ],
   "source": [
    "plt.plot(y)"
   ]
  },
  {
   "cell_type": "code",
   "execution_count": 334,
   "metadata": {
    "collapsed": false
   },
   "outputs": [
    {
     "name": "stdout",
     "output_type": "stream",
     "text": [
      "                            OLS Regression Results                            \n",
      "==============================================================================\n",
      "Dep. Variable:                      y   R-squared:                       0.882\n",
      "Model:                            OLS   Adj. R-squared:                  0.879\n",
      "Method:                 Least Squares   F-statistic:                     358.1\n",
      "Date:                Tue, 14 Jul 2015   Prob (F-statistic):           6.74e-24\n",
      "Time:                        17:36:22   Log-Likelihood:                -21.806\n",
      "No. Observations:                  50   AIC:                             47.61\n",
      "Df Residuals:                      48   BIC:                             51.44\n",
      "Df Model:                           1                                         \n",
      "Covariance Type:            nonrobust                                         \n",
      "==============================================================================\n",
      "                 coef    std err          t      P>|t|      [95.0% Conf. Int.]\n",
      "------------------------------------------------------------------------------\n",
      "const          6.2633      0.115     54.529      0.000         6.032     6.494\n",
      "x1             0.1827      0.010     18.922      0.000         0.163     0.202\n",
      "==============================================================================\n",
      "Omnibus:                       22.245   Durbin-Watson:                   0.239\n",
      "Prob(Omnibus):                  0.000   Jarque-Bera (JB):               33.537\n",
      "Skew:                          -1.476   Prob(JB):                     5.22e-08\n",
      "Kurtosis:                       5.716   Cond. No.                         25.4\n",
      "==============================================================================\n",
      "\n",
      "Warnings:\n",
      "[1] Standard Errors assume that the covariance matrix of the errors is correctly specified.\n"
     ]
    }
   ],
   "source": [
    "# y ~ x1\n",
    "# Relatively good fit but not perfect\n",
    "fit_reg = sm.OLS(y, X1).fit()\n",
    "print(fit_reg.summary())"
   ]
  },
  {
   "cell_type": "code",
   "execution_count": 335,
   "metadata": {
    "collapsed": false
   },
   "outputs": [
    {
     "name": "stdout",
     "output_type": "stream",
     "text": [
      "                            OLS Regression Results                            \n",
      "==============================================================================\n",
      "Dep. Variable:                      y   R-squared:                       0.989\n",
      "Model:                            OLS   Adj. R-squared:                  0.989\n",
      "Method:                 Least Squares   F-statistic:                     4489.\n",
      "Date:                Tue, 14 Jul 2015   Prob (F-statistic):           4.46e-49\n",
      "Time:                        17:36:22   Log-Likelihood:                 38.531\n",
      "No. Observations:                  50   AIC:                            -73.06\n",
      "Df Residuals:                      48   BIC:                            -69.24\n",
      "Df Model:                           1                                         \n",
      "Covariance Type:            nonrobust                                         \n",
      "==============================================================================\n",
      "                 coef    std err          t      P>|t|      [95.0% Conf. Int.]\n",
      "------------------------------------------------------------------------------\n",
      "const          5.0541      0.049    102.321      0.000         4.955     5.153\n",
      "x1             1.4615      0.022     66.998      0.000         1.418     1.505\n",
      "==============================================================================\n",
      "Omnibus:                        0.528   Durbin-Watson:                   1.997\n",
      "Prob(Omnibus):                  0.768   Jarque-Bera (JB):                0.650\n",
      "Skew:                           0.208   Prob(JB):                        0.722\n",
      "Kurtosis:                       2.627   Cond. No.                         8.15\n",
      "==============================================================================\n",
      "\n",
      "Warnings:\n",
      "[1] Standard Errors assume that the covariance matrix of the errors is correctly specified.\n"
     ]
    }
   ],
   "source": [
    "# y ~ log(x1)\n",
    "# Fit log model, better results\n",
    "fit_log = sm.OLS(y, X).fit()\n",
    "print(fit_log.summary())"
   ]
  },
  {
   "cell_type": "code",
   "execution_count": 336,
   "metadata": {
    "collapsed": false
   },
   "outputs": [],
   "source": [
    "yhat = fit_log.predict(X)"
   ]
  },
  {
   "cell_type": "code",
   "execution_count": 337,
   "metadata": {
    "collapsed": false
   },
   "outputs": [
    {
     "data": {
      "text/plain": [
       "<matplotlib.text.Text at 0x11283a7d0>"
      ]
     },
     "execution_count": 337,
     "metadata": {},
     "output_type": "execute_result"
    },
    {
     "data": {
      "image/png": "[encoded data removed]",
      "text/plain": [
       "<matplotlib.figure.Figure at 0x11104ec90>"
      ]
     },
     "metadata": {},
     "output_type": "display_data"
    }
   ],
   "source": [
    "fig, ax = plt.subplots(figsize=(10,8))\n",
    "ax.plot(x1, y, 'o', label=\"Data\")\n",
    "ax.plot(x1, y_true, 'b-', label=\"True\")\n",
    "ax.plot(x1, yhat, 'b-', label=\"Pred\", c='r')\n",
    "plt.xlabel('x', fontsize=18)\n",
    "plt.ylabel('y', fontsize=16)\n",
    "ax.legend(loc=\"best\")\n",
    "fig.suptitle('Regression on log(x1)',fontsize=20)"
   ]
  },
  {
   "cell_type": "code",
   "execution_count": 338,
   "metadata": {
    "collapsed": true
   },
   "outputs": [],
   "source": [
    "# y ~ x1^2\n",
    "# Fit quadratic model\n",
    "y_q,X_q = dmatrices('y ~ I(x1**2)', df) # Create matrices"
   ]
  },
  {
   "cell_type": "code",
   "execution_count": 339,
   "metadata": {
    "collapsed": false
   },
   "outputs": [
    {
     "name": "stdout",
     "output_type": "stream",
     "text": [
      "                            OLS Regression Results                            \n",
      "==============================================================================\n",
      "Dep. Variable:                      y   R-squared:                       0.714\n",
      "Model:                            OLS   Adj. R-squared:                  0.708\n",
      "Method:                 Least Squares   F-statistic:                     120.1\n",
      "Date:                Tue, 14 Jul 2015   Prob (F-statistic):           1.16e-14\n",
      "Time:                        17:36:22   Log-Likelihood:                -43.856\n",
      "No. Observations:                  50   AIC:                             91.71\n",
      "Df Residuals:                      48   BIC:                             95.54\n",
      "Df Model:                           1                                         \n",
      "Covariance Type:            nonrobust                                         \n",
      "==============================================================================\n",
      "                 coef    std err          t      P>|t|      [95.0% Conf. Int.]\n",
      "------------------------------------------------------------------------------\n",
      "Intercept      7.1031      0.129     54.915      0.000         6.843     7.363\n",
      "I(x1 ** 2)     0.0076      0.001     10.958      0.000         0.006     0.009\n",
      "==============================================================================\n",
      "Omnibus:                       20.602   Durbin-Watson:                   0.117\n",
      "Prob(Omnibus):                  0.000   Jarque-Bera (JB):               28.139\n",
      "Skew:                          -1.452   Prob(JB):                     7.76e-07\n",
      "Kurtosis:                       5.253   Cond. No.                         287.\n",
      "==============================================================================\n",
      "\n",
      "Warnings:\n",
      "[1] Standard Errors assume that the covariance matrix of the errors is correctly specified.\n"
     ]
    }
   ],
   "source": [
    "fit_q = sm.OLS(y_q, X_q).fit()\n",
    "print(fit_q.summary())"
   ]
  },
  {
   "cell_type": "code",
   "execution_count": 340,
   "metadata": {
    "collapsed": true
   },
   "outputs": [],
   "source": [
    "yhat_q = fit_q.predict(X_q)"
   ]
  },
  {
   "cell_type": "code",
   "execution_count": 341,
   "metadata": {
    "collapsed": false
   },
   "outputs": [
    {
     "data": {
      "text/plain": [
       "<matplotlib.text.Text at 0x112a3cad0>"
      ]
     },
     "execution_count": 341,
     "metadata": {},
     "output_type": "execute_result"
    },
    {
     "data": {
      "image/png": "[encoded data removed]",
      "text/plain": [
       "<matplotlib.figure.Figure at 0x111fd5310>"
      ]
     },
     "metadata": {},
     "output_type": "display_data"
    }
   ],
   "source": [
    "fig, ax = plt.subplots(figsize=(10,8))\n",
    "ax.plot(x1, y, 'o', label=\"Data\",alpha=0.5)\n",
    "ax.plot(x1, y_true, 'b-', label=\"True\")\n",
    "ax.plot(x1, yhat_q, 'b-', label=\"Pred\", c='r')\n",
    "plt.xlabel('x', fontsize=18)\n",
    "plt.ylabel('y', fontsize=16)\n",
    "ax.legend(loc=\"best\")\n",
    "fig.suptitle('Regression on x1^2',fontsize=20)"
   ]
  },
  {
   "cell_type": "markdown",
   "metadata": {},
   "source": [
    "## Challenge 2"
   ]
  },
  {
   "cell_type": "code",
   "execution_count": 342,
   "metadata": {
    "collapsed": true
   },
   "outputs": [],
   "source": [
    "np.random.seed(43)\n",
    "nsample = 300\n",
    "sig = 4\n",
    "x1 = np.linspace(1.0, 10.0, nsample)\n",
    "X = np.c_[x1,x1**2]\n",
    "X = sm.add_constant(X)\n",
    "\n",
    "beta = [20., 1.5, 3.0] # Create parameter coefficients"
   ]
  },
  {
   "cell_type": "code",
   "execution_count": 343,
   "metadata": {
    "collapsed": true
   },
   "outputs": [],
   "source": [
    "y_true = np.dot(X,beta)\n",
    "y = y_true + sig*np.random.normal(size=nsample) # Add epsilon"
   ]
  },
  {
   "cell_type": "code",
   "execution_count": 344,
   "metadata": {
    "collapsed": true
   },
   "outputs": [],
   "source": [
    "df_2 = pd.DataFrame(x1,y)\n",
    "df_2 = df_2.reset_index()"
   ]
  },
  {
   "cell_type": "code",
   "execution_count": 345,
   "metadata": {
    "collapsed": false
   },
   "outputs": [
    {
     "data": {
      "text/html": [
       "<div style=\"max-height:1000px;max-width:1500px;overflow:auto;\">\n",
       "<table border=\"1\" class=\"dataframe\">\n",
       "  <thead>\n",
       "    <tr style=\"text-align: right;\">\n",
       "      <th></th>\n",
       "      <th>index</th>\n",
       "      <th>0</th>\n",
       "    </tr>\n",
       "  </thead>\n",
       "  <tbody>\n",
       "    <tr>\n",
       "      <th>0</th>\n",
       "      <td>25.529600</td>\n",
       "      <td>1.000000</td>\n",
       "    </tr>\n",
       "    <tr>\n",
       "      <th>1</th>\n",
       "      <td>21.094545</td>\n",
       "      <td>1.030100</td>\n",
       "    </tr>\n",
       "    <tr>\n",
       "      <th>2</th>\n",
       "      <td>23.448365</td>\n",
       "      <td>1.060201</td>\n",
       "    </tr>\n",
       "    <tr>\n",
       "      <th>3</th>\n",
       "      <td>23.062058</td>\n",
       "      <td>1.090301</td>\n",
       "    </tr>\n",
       "    <tr>\n",
       "      <th>4</th>\n",
       "      <td>28.878793</td>\n",
       "      <td>1.120401</td>\n",
       "    </tr>\n",
       "  </tbody>\n",
       "</table>\n",
       "</div>"
      ],
      "text/plain": [
       "       index         0\n",
       "0  25.529600  1.000000\n",
       "1  21.094545  1.030100\n",
       "2  23.448365  1.060201\n",
       "3  23.062058  1.090301\n",
       "4  28.878793  1.120401"
      ]
     },
     "execution_count": 345,
     "metadata": {},
     "output_type": "execute_result"
    }
   ],
   "source": [
    "df_2.head()"
   ]
  },
  {
   "cell_type": "code",
   "execution_count": 346,
   "metadata": {
    "collapsed": false
   },
   "outputs": [],
   "source": [
    "df_2.columns=['y','x1']"
   ]
  },
  {
   "cell_type": "code",
   "execution_count": 347,
   "metadata": {
    "collapsed": true
   },
   "outputs": [],
   "source": [
    "# Normal linear regression on x1\n",
    "y2, X2 = dmatrices('y ~ x1 + I(x1**2)', df_2)"
   ]
  },
  {
   "cell_type": "code",
   "execution_count": 348,
   "metadata": {
    "collapsed": false
   },
   "outputs": [
    {
     "data": {
      "text/plain": [
       "<matplotlib.legend.Legend at 0x11161c9d0>"
      ]
     },
     "execution_count": 348,
     "metadata": {},
     "output_type": "execute_result"
    },
    {
     "data": {
      "image/png": "[encoded data removed]",
      "text/plain": [
       "<matplotlib.figure.Figure at 0x111fd5090>"
      ]
     },
     "metadata": {},
     "output_type": "display_data"
    }
   ],
   "source": [
    "fig, ax = plt.subplots()\n",
    "ax.plot(x1, y, 'o', label=\"Data\",alpha=0.3)\n",
    "ax.plot(x1, y_true, 'b-', label=\"True\")\n",
    "ax.legend(loc=\"best\")"
   ]
  },
  {
   "cell_type": "code",
   "execution_count": 349,
   "metadata": {
    "collapsed": false
   },
   "outputs": [
    {
     "name": "stdout",
     "output_type": "stream",
     "text": [
      "                            OLS Regression Results                            \n",
      "==============================================================================\n",
      "Dep. Variable:                      y   R-squared:                       0.998\n",
      "Model:                            OLS   Adj. R-squared:                  0.998\n",
      "Method:                 Least Squares   F-statistic:                 8.176e+04\n",
      "Date:                Tue, 14 Jul 2015   Prob (F-statistic):               0.00\n",
      "Time:                        17:36:24   Log-Likelihood:                -834.09\n",
      "No. Observations:                 300   AIC:                             1674.\n",
      "Df Residuals:                     297   BIC:                             1685.\n",
      "Df Model:                           2                                         \n",
      "Covariance Type:            nonrobust                                         \n",
      "==============================================================================\n",
      "                 coef    std err          t      P>|t|      [95.0% Conf. Int.]\n",
      "------------------------------------------------------------------------------\n",
      "Intercept     19.8060      1.021     19.396      0.000        17.796    21.816\n",
      "x1             1.7138      0.419      4.092      0.000         0.890     2.538\n",
      "I(x1 ** 2)     2.9740      0.037     79.841      0.000         2.901     3.047\n",
      "==============================================================================\n",
      "Omnibus:                        0.185   Durbin-Watson:                   1.982\n",
      "Prob(Omnibus):                  0.912   Jarque-Bera (JB):                0.085\n",
      "Skew:                           0.036   Prob(JB):                        0.959\n",
      "Kurtosis:                       3.039   Cond. No.                         230.\n",
      "==============================================================================\n",
      "\n",
      "Warnings:\n",
      "[1] Standard Errors assume that the covariance matrix of the errors is correctly specified.\n"
     ]
    }
   ],
   "source": [
    "# Perfect fit, on itself\n",
    "fit = sm.OLS(y2,X2).fit()\n",
    "print(fit.summary())"
   ]
  },
  {
   "cell_type": "code",
   "execution_count": 350,
   "metadata": {
    "collapsed": false
   },
   "outputs": [
    {
     "name": "stdout",
     "output_type": "stream",
     "text": [
      "231\n"
     ]
    }
   ],
   "source": [
    "split = int(round(len(df_2)/1.3))\n",
    "print split\n",
    "indices = np.random.permutation(df_2.shape[0]) # shuffle indices\n",
    "training_idx, test_idx = indices[:split], indices[split:] \n",
    "df_tr = df_2.loc[training_idx] # partition data for training\n",
    "df_ts = df_2.loc[test_idx] # partition data for testing"
   ]
  },
  {
   "cell_type": "code",
   "execution_count": 351,
   "metadata": {
    "collapsed": true
   },
   "outputs": [],
   "source": [
    "# Perform regression on test and training set\n",
    "y_tr, X_tr = dmatrices('y ~ x1 + I(x1**2)', df_tr)\n",
    "y_ts, X_ts = dmatrices('y ~ x1 + I(x1**2)', df_ts)"
   ]
  },
  {
   "cell_type": "code",
   "execution_count": 352,
   "metadata": {
    "collapsed": true
   },
   "outputs": [],
   "source": [
    "fit_2 = sm.OLS(y_tr, X_tr).fit()"
   ]
  },
  {
   "cell_type": "code",
   "execution_count": 353,
   "metadata": {
    "collapsed": true
   },
   "outputs": [],
   "source": [
    "y_ts_model = fit_2.predict(X_ts)\n",
    "y_tr_model = fit_2.predict(X_tr)"
   ]
  },
  {
   "cell_type": "code",
   "execution_count": 354,
   "metadata": {
    "collapsed": false
   },
   "outputs": [],
   "source": [
    "# Sort data for prettier graphing\n",
    "temp_ts = zip(*sorted(zip(X_ts[:,1],y_ts)))\n",
    "temp_ts_model = zip(*sorted(zip(X_ts[:,1],y_ts_model)))"
   ]
  },
  {
   "cell_type": "code",
   "execution_count": 355,
   "metadata": {
    "collapsed": false
   },
   "outputs": [
    {
     "data": {
      "text/plain": [
       "<matplotlib.legend.Legend at 0x1110ec290>"
      ]
     },
     "execution_count": 355,
     "metadata": {},
     "output_type": "execute_result"
    },
    {
     "data": {
      "image/png": "[encoded data removed]",
      "text/plain": [
       "<matplotlib.figure.Figure at 0x10fc3ae90>"
      ]
     },
     "metadata": {},
     "output_type": "display_data"
    }
   ],
   "source": [
    "fig, ax = plt.subplots(figsize=(10,8))\n",
    "ax.plot(temp_ts[0],temp_ts[1], 'o', label=\"Test set real\",alpha=0.7)\n",
    "ax.plot(temp_ts_model[0],temp_ts_model[1],linestyle=':', label=\"Test set pred\")\n",
    "ax.legend(loc=\"best\")"
   ]
  },
  {
   "cell_type": "code",
   "execution_count": 403,
   "metadata": {
    "collapsed": false,
    "scrolled": true
   },
   "outputs": [
    {
     "name": "stdout",
     "output_type": "stream",
     "text": [
      "Mean squared error on training set\n",
      "14.5427572024\n",
      "Mean squared error on test set\n",
      "17.5138212617\n",
      "Check the estimated mean squared error of the true data\n",
      "15.282202996\n"
     ]
    }
   ],
   "source": [
    "print \"Mean squared error on training set\"\n",
    "print sklearn.metrics.mean_squared_error(y_tr, y_tr_model)\n",
    "print \"Mean squared error on test set\"\n",
    "print sklearn.metrics.mean_squared_error(y_ts, y_ts_model)\n",
    "print \"Check the estimated mean squared error of the true data\"\n",
    "print sklearn.metrics.mean_squared_error(y_true, y)"
   ]
  },
  {
   "cell_type": "markdown",
   "metadata": {
    "collapsed": true
   },
   "source": [
    "## Challenge 3\n",
    "####For the data from two (above), try polynomial fits from 0th (just constant) to 7th order (highest term x^7). Over the x axis of model degree (8 points), plot:"
   ]
  },
  {
   "cell_type": "code",
   "execution_count": 357,
   "metadata": {
    "collapsed": false
   },
   "outputs": [
    {
     "data": {
      "text/html": [
       "<div style=\"max-height:1000px;max-width:1500px;overflow:auto;\">\n",
       "<table border=\"1\" class=\"dataframe\">\n",
       "  <thead>\n",
       "    <tr style=\"text-align: right;\">\n",
       "      <th></th>\n",
       "      <th>y</th>\n",
       "      <th>x1</th>\n",
       "    </tr>\n",
       "  </thead>\n",
       "  <tbody>\n",
       "    <tr>\n",
       "      <th>0</th>\n",
       "      <td>25.529600</td>\n",
       "      <td>1.000000</td>\n",
       "    </tr>\n",
       "    <tr>\n",
       "      <th>1</th>\n",
       "      <td>21.094545</td>\n",
       "      <td>1.030100</td>\n",
       "    </tr>\n",
       "    <tr>\n",
       "      <th>2</th>\n",
       "      <td>23.448365</td>\n",
       "      <td>1.060201</td>\n",
       "    </tr>\n",
       "    <tr>\n",
       "      <th>3</th>\n",
       "      <td>23.062058</td>\n",
       "      <td>1.090301</td>\n",
       "    </tr>\n",
       "    <tr>\n",
       "      <th>4</th>\n",
       "      <td>28.878793</td>\n",
       "      <td>1.120401</td>\n",
       "    </tr>\n",
       "  </tbody>\n",
       "</table>\n",
       "</div>"
      ],
      "text/plain": [
       "           y        x1\n",
       "0  25.529600  1.000000\n",
       "1  21.094545  1.030100\n",
       "2  23.448365  1.060201\n",
       "3  23.062058  1.090301\n",
       "4  28.878793  1.120401"
      ]
     },
     "execution_count": 357,
     "metadata": {},
     "output_type": "execute_result"
    }
   ],
   "source": [
    "df_2.head()"
   ]
  },
  {
   "cell_type": "code",
   "execution_count": 398,
   "metadata": {
    "collapsed": true
   },
   "outputs": [
    {
     "data": {
      "text/html": [
       "<div style=\"max-height:1000px;max-width:1500px;overflow:auto;\">\n",
       "<table border=\"1\" class=\"dataframe\">\n",
       "  <thead>\n",
       "    <tr style=\"text-align: right;\">\n",
       "      <th></th>\n",
       "      <th>x1</th>\n",
       "    </tr>\n",
       "  </thead>\n",
       "  <tbody>\n",
       "    <tr>\n",
       "      <th>0</th>\n",
       "      <td>1.000000</td>\n",
       "    </tr>\n",
       "    <tr>\n",
       "      <th>1</th>\n",
       "      <td>1.030100</td>\n",
       "    </tr>\n",
       "    <tr>\n",
       "      <th>2</th>\n",
       "      <td>1.060201</td>\n",
       "    </tr>\n",
       "    <tr>\n",
       "      <th>3</th>\n",
       "      <td>1.090301</td>\n",
       "    </tr>\n",
       "    <tr>\n",
       "      <th>4</th>\n",
       "      <td>1.120401</td>\n",
       "    </tr>\n",
       "    <tr>\n",
       "      <th>5</th>\n",
       "      <td>1.150502</td>\n",
       "    </tr>\n",
       "    <tr>\n",
       "      <th>6</th>\n",
       "      <td>1.180602</td>\n",
       "    </tr>\n",
       "    <tr>\n",
       "      <th>7</th>\n",
       "      <td>1.210702</td>\n",
       "    </tr>\n",
       "    <tr>\n",
       "      <th>8</th>\n",
       "      <td>1.240803</td>\n",
       "    </tr>\n",
       "    <tr>\n",
       "      <th>9</th>\n",
       "      <td>1.270903</td>\n",
       "    </tr>\n",
       "    <tr>\n",
       "      <th>10</th>\n",
       "      <td>1.301003</td>\n",
       "    </tr>\n",
       "    <tr>\n",
       "      <th>11</th>\n",
       "      <td>1.331104</td>\n",
       "    </tr>\n",
       "    <tr>\n",
       "      <th>12</th>\n",
       "      <td>1.361204</td>\n",
       "    </tr>\n",
       "    <tr>\n",
       "      <th>13</th>\n",
       "      <td>1.391304</td>\n",
       "    </tr>\n",
       "    <tr>\n",
       "      <th>14</th>\n",
       "      <td>1.421405</td>\n",
       "    </tr>\n",
       "    <tr>\n",
       "      <th>15</th>\n",
       "      <td>1.451505</td>\n",
       "    </tr>\n",
       "    <tr>\n",
       "      <th>16</th>\n",
       "      <td>1.481605</td>\n",
       "    </tr>\n",
       "    <tr>\n",
       "      <th>17</th>\n",
       "      <td>1.511706</td>\n",
       "    </tr>\n",
       "    <tr>\n",
       "      <th>18</th>\n",
       "      <td>1.541806</td>\n",
       "    </tr>\n",
       "    <tr>\n",
       "      <th>19</th>\n",
       "      <td>1.571906</td>\n",
       "    </tr>\n",
       "    <tr>\n",
       "      <th>20</th>\n",
       "      <td>1.602007</td>\n",
       "    </tr>\n",
       "    <tr>\n",
       "      <th>21</th>\n",
       "      <td>1.632107</td>\n",
       "    </tr>\n",
       "    <tr>\n",
       "      <th>22</th>\n",
       "      <td>1.662207</td>\n",
       "    </tr>\n",
       "    <tr>\n",
       "      <th>23</th>\n",
       "      <td>1.692308</td>\n",
       "    </tr>\n",
       "    <tr>\n",
       "      <th>24</th>\n",
       "      <td>1.722408</td>\n",
       "    </tr>\n",
       "    <tr>\n",
       "      <th>25</th>\n",
       "      <td>1.752508</td>\n",
       "    </tr>\n",
       "    <tr>\n",
       "      <th>26</th>\n",
       "      <td>1.782609</td>\n",
       "    </tr>\n",
       "    <tr>\n",
       "      <th>27</th>\n",
       "      <td>1.812709</td>\n",
       "    </tr>\n",
       "    <tr>\n",
       "      <th>28</th>\n",
       "      <td>1.842809</td>\n",
       "    </tr>\n",
       "    <tr>\n",
       "      <th>29</th>\n",
       "      <td>1.872910</td>\n",
       "    </tr>\n",
       "    <tr>\n",
       "      <th>...</th>\n",
       "      <td>...</td>\n",
       "    </tr>\n",
       "    <tr>\n",
       "      <th>270</th>\n",
       "      <td>9.127090</td>\n",
       "    </tr>\n",
       "    <tr>\n",
       "      <th>271</th>\n",
       "      <td>9.157191</td>\n",
       "    </tr>\n",
       "    <tr>\n",
       "      <th>272</th>\n",
       "      <td>9.187291</td>\n",
       "    </tr>\n",
       "    <tr>\n",
       "      <th>273</th>\n",
       "      <td>9.217391</td>\n",
       "    </tr>\n",
       "    <tr>\n",
       "      <th>274</th>\n",
       "      <td>9.247492</td>\n",
       "    </tr>\n",
       "    <tr>\n",
       "      <th>275</th>\n",
       "      <td>9.277592</td>\n",
       "    </tr>\n",
       "    <tr>\n",
       "      <th>276</th>\n",
       "      <td>9.307692</td>\n",
       "    </tr>\n",
       "    <tr>\n",
       "      <th>277</th>\n",
       "      <td>9.337793</td>\n",
       "    </tr>\n",
       "    <tr>\n",
       "      <th>278</th>\n",
       "      <td>9.367893</td>\n",
       "    </tr>\n",
       "    <tr>\n",
       "      <th>279</th>\n",
       "      <td>9.397993</td>\n",
       "    </tr>\n",
       "    <tr>\n",
       "      <th>280</th>\n",
       "      <td>9.428094</td>\n",
       "    </tr>\n",
       "    <tr>\n",
       "      <th>281</th>\n",
       "      <td>9.458194</td>\n",
       "    </tr>\n",
       "    <tr>\n",
       "      <th>282</th>\n",
       "      <td>9.488294</td>\n",
       "    </tr>\n",
       "    <tr>\n",
       "      <th>283</th>\n",
       "      <td>9.518395</td>\n",
       "    </tr>\n",
       "    <tr>\n",
       "      <th>284</th>\n",
       "      <td>9.548495</td>\n",
       "    </tr>\n",
       "    <tr>\n",
       "      <th>285</th>\n",
       "      <td>9.578595</td>\n",
       "    </tr>\n",
       "    <tr>\n",
       "      <th>286</th>\n",
       "      <td>9.608696</td>\n",
       "    </tr>\n",
       "    <tr>\n",
       "      <th>287</th>\n",
       "      <td>9.638796</td>\n",
       "    </tr>\n",
       "    <tr>\n",
       "      <th>288</th>\n",
       "      <td>9.668896</td>\n",
       "    </tr>\n",
       "    <tr>\n",
       "      <th>289</th>\n",
       "      <td>9.698997</td>\n",
       "    </tr>\n",
       "    <tr>\n",
       "      <th>290</th>\n",
       "      <td>9.729097</td>\n",
       "    </tr>\n",
       "    <tr>\n",
       "      <th>291</th>\n",
       "      <td>9.759197</td>\n",
       "    </tr>\n",
       "    <tr>\n",
       "      <th>292</th>\n",
       "      <td>9.789298</td>\n",
       "    </tr>\n",
       "    <tr>\n",
       "      <th>293</th>\n",
       "      <td>9.819398</td>\n",
       "    </tr>\n",
       "    <tr>\n",
       "      <th>294</th>\n",
       "      <td>9.849498</td>\n",
       "    </tr>\n",
       "    <tr>\n",
       "      <th>295</th>\n",
       "      <td>9.879599</td>\n",
       "    </tr>\n",
       "    <tr>\n",
       "      <th>296</th>\n",
       "      <td>9.909699</td>\n",
       "    </tr>\n",
       "    <tr>\n",
       "      <th>297</th>\n",
       "      <td>9.939799</td>\n",
       "    </tr>\n",
       "    <tr>\n",
       "      <th>298</th>\n",
       "      <td>9.969900</td>\n",
       "    </tr>\n",
       "    <tr>\n",
       "      <th>299</th>\n",
       "      <td>10.000000</td>\n",
       "    </tr>\n",
       "  </tbody>\n",
       "</table>\n",
       "<p>300 rows × 1 columns</p>\n",
       "</div>"
      ],
      "text/plain": [
       "            x1\n",
       "0     1.000000\n",
       "1     1.030100\n",
       "2     1.060201\n",
       "3     1.090301\n",
       "4     1.120401\n",
       "5     1.150502\n",
       "6     1.180602\n",
       "7     1.210702\n",
       "8     1.240803\n",
       "9     1.270903\n",
       "10    1.301003\n",
       "11    1.331104\n",
       "12    1.361204\n",
       "13    1.391304\n",
       "14    1.421405\n",
       "15    1.451505\n",
       "16    1.481605\n",
       "17    1.511706\n",
       "18    1.541806\n",
       "19    1.571906\n",
       "20    1.602007\n",
       "21    1.632107\n",
       "22    1.662207\n",
       "23    1.692308\n",
       "24    1.722408\n",
       "25    1.752508\n",
       "26    1.782609\n",
       "27    1.812709\n",
       "28    1.842809\n",
       "29    1.872910\n",
       "..         ...\n",
       "270   9.127090\n",
       "271   9.157191\n",
       "272   9.187291\n",
       "273   9.217391\n",
       "274   9.247492\n",
       "275   9.277592\n",
       "276   9.307692\n",
       "277   9.337793\n",
       "278   9.367893\n",
       "279   9.397993\n",
       "280   9.428094\n",
       "281   9.458194\n",
       "282   9.488294\n",
       "283   9.518395\n",
       "284   9.548495\n",
       "285   9.578595\n",
       "286   9.608696\n",
       "287   9.638796\n",
       "288   9.668896\n",
       "289   9.698997\n",
       "290   9.729097\n",
       "291   9.759197\n",
       "292   9.789298\n",
       "293   9.819398\n",
       "294   9.849498\n",
       "295   9.879599\n",
       "296   9.909699\n",
       "297   9.939799\n",
       "298   9.969900\n",
       "299  10.000000\n",
       "\n",
       "[300 rows x 1 columns]"
      ]
     },
     "execution_count": 398,
     "metadata": {},
     "output_type": "execute_result"
    }
   ],
   "source": [
    "x = pd.DataFrame({'x1': np.linspace(x1.min(), x1.max(), 300)})"
   ]
  },
  {
   "cell_type": "code",
   "execution_count": 402,
   "metadata": {
    "collapsed": false
   },
   "outputs": [
    {
     "data": {
      "text/plain": [
       "<matplotlib.legend.Legend at 0x112194b10>"
      ]
     },
     "execution_count": 402,
     "metadata": {},
     "output_type": "execute_result"
    },
    {
     "data": {
      "image/png": "[encoded data removed]",
      "text/plain": [
       "<matplotlib.figure.Figure at 0x114738490>"
      ]
     },
     "metadata": {},
     "output_type": "display_data"
    }
   ],
   "source": [
    "plt.figure(figsize=(6 * 1.618, 6))\n",
    "plt.scatter(df_2.x1, df_2.y, s=10, alpha=0.3)\n",
    "plt.xlabel('x')\n",
    "plt.ylabel('y')\n",
    "\n",
    "# points linearlyd space on lstats\n",
    "# x = pd.DataFrame({'lstat': np.linspace(df.lstat.min(), df.lstat.max(), 100)})\n",
    "\n",
    "\n",
    "# 0th order polynomial\n",
    "poly_0 = smf.ols(formula='y ~ 1', data=df_2).fit()\n",
    "plt.plot(x1, poly_0.predict(), 'o-', label='Poly n=0 $R^2$=%.2f' % poly_0.rsquared, \n",
    "        alpha=0.9)\n",
    "\n",
    "\n",
    "# 1-st order polynomial\n",
    "poly_1 = smf.ols(formula='y ~ 1 + x1', data=df_2).fit()\n",
    "plt.plot(x1, poly_1.predict(), 'b-', label='Poly n=1 $R^2$=%.2f' % poly_1.rsquared, \n",
    "         alpha=0.9)\n",
    "#\n",
    "# 2-nd order polynomial\n",
    "poly_2 = smf.ols(formula='y ~ 1 + x1 + I(x1 ** 2.0)', data=df_2).fit()\n",
    "plt.plot(x1, poly_2.predict(), 'g-', label='Poly n=2 $R^2$=%.2f' % poly_2.rsquared, \n",
    "        alpha=0.8)\n",
    "\n",
    "# 3-rd order polynomial\n",
    "poly_3 = smf.ols(formula='y ~ 1 + x1 + I(x1 ** 2.0) + I(x1 ** 3.0)', data=df_2).fit()\n",
    "plt.plot(x1, poly_3.predict(), 'r-', alpha=0.7,\n",
    "         label='Poly n=3 $R^2$=%.2f' % poly_3.rsquared)\n",
    "\n",
    "# 4-th order polynomial\n",
    "poly_4 = smf.ols(formula='y ~ 1 + x1 + I(x1 ** 2.0) + I(x1 ** 3.0) + I(x1 ** 4.0)', data=df_2).fit()\n",
    "plt.plot(x1, poly_4.predict(), 'y-', alpha=0.6,\n",
    "         label='Poly n=4 $R^2$=%.2f' % poly_4.rsquared)\n",
    "\n",
    "# 5-th order polynomial\n",
    "poly_5 = smf.ols(formula='y ~ 1 + x1 + I(x1 ** 2.0) + I(x1 ** 3.0) + I(x1 ** 4.0) + I(x1 ** 5.0)', data=df_2).fit()\n",
    "plt.plot(x1, poly_5.predict(), 'r-', alpha=0.5,\n",
    "         label='Poly n=5 $R^2$=%.2f' % poly_5.rsquared)\n",
    "\n",
    "# 6-th order polynomial\n",
    "poly_6 = smf.ols(formula='y ~ 1 + x1 + I(x1 ** 2.0) + I(x1 ** 3.0) + I(x1 ** 4.0) + I(x1 ** 5.0) + I(x1 ** 6.0)', data=df_2).fit()\n",
    "plt.plot(x1, poly_6.predict(), 'b-', alpha=0.5,\n",
    "         label='Poly n=6 $R^2$=%.2f' % poly_6.rsquared)\n",
    "\n",
    "# 7-th order polynomial\n",
    "poly_7 = smf.ols(formula='y ~ 1 + x1 + I(x1 ** 2.0) + I(x1 ** 3.0) + I(x1 ** 4.0) + I(x1 ** 5.0) + I(x1 ** 6.0) + I(x1 ** 7.0)', data=df_2).fit()\n",
    "plt.plot(x1, poly_5.predict(), 'p-', alpha=0.5,\n",
    "         label='Poly n=7 $R^2$=%.2f' % poly_7.rsquared)\n",
    "\n",
    "plt.legend()"
   ]
  },
  {
   "cell_type": "code",
   "execution_count": 396,
   "metadata": {
    "collapsed": false
   },
   "outputs": [],
   "source": [
    "np.random.seed(43)\n",
    "nsample = 300\n",
    "sig = 4\n",
    "x1 = np.linspace(1.0, 10.0, nsample)\n",
    "X = np.c_[x1,x1**2]\n",
    "X = sm.add_constant(X)\n",
    "y_true = np.dot(X,beta)\n",
    "y = y_true + sig*np.random.normal(size=nsample) # Add epsilon"
   ]
  },
  {
   "cell_type": "code",
   "execution_count": 381,
   "metadata": {
    "collapsed": true
   },
   "outputs": [],
   "source": [
    "# Polynomial fit 0th order\n",
    "y_0, X_0 = dmatrices('y ~ 1', df_2)\n",
    "fit_0 = sm.OLS(y_0, X_0).fit()\n",
    "X_data = "
   ]
  },
  {
   "cell_type": "code",
   "execution_count": 382,
   "metadata": {
    "collapsed": true
   },
   "outputs": [],
   "source": [
    "# Polynomial fit 1st order\n",
    "y_1, X_1 = dmatrices('y ~ x1', df_2)\n",
    "fit_1 = sm.OLS(y_1, X_1).fit()"
   ]
  },
  {
   "cell_type": "code",
   "execution_count": 383,
   "metadata": {
    "collapsed": true
   },
   "outputs": [],
   "source": [
    "# Polynomial fit 2nd order\n",
    "y_2, X_2 = dmatrices('y ~ x1 + I(x1**2)', df_2)\n",
    "fit_2 = sm.OLS(y_2, X_2).fit()"
   ]
  },
  {
   "cell_type": "code",
   "execution_count": 384,
   "metadata": {
    "collapsed": true
   },
   "outputs": [],
   "source": [
    "# Polynomial fit 3rd order\n",
    "y_3, X_3 = dmatrices('y ~ x1 + I(x1**2) + I(x1**3)', df_2)\n",
    "fit_3 = sm.OLS(y_3, X_3).fit()"
   ]
  },
  {
   "cell_type": "code",
   "execution_count": null,
   "metadata": {
    "collapsed": true
   },
   "outputs": [],
   "source": []
  }
 ],
 "metadata": {
  "kernelspec": {
   "display_name": "Python 2",
   "language": "python",
   "name": "python2"
  },
  "language_info": {
   "codemirror_mode": {
    "name": "ipython",
    "version": 2
   },
   "file_extension": ".py",
   "mimetype": "text/x-python",
   "name": "python",
   "nbconvert_exporter": "python",
   "pygments_lexer": "ipython2",
   "version": "2.7.10"
  }
 },
 "nbformat": 4,
 "nbformat_minor": 0
}
