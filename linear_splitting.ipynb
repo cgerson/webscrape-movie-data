{
 "cells": [
  {
   "cell_type": "code",
   "execution_count": 83,
   "metadata": {
    "collapsed": false
   },
   "outputs": [],
   "source": [
    "import pickle\n",
    "import pandas as pd\n",
    "from patsy import dmatrices\n",
    "import statsmodels.api as sm\n",
    "import statsmodels.formula.api as smf\n",
    "import matplotlib.pyplot as plt\n",
    "import numpy as np\n",
    "import seaborn as sns\n",
    "from random import shuffle\n",
    "import random\n",
    "%matplotlib inline"
   ]
  },
  {
   "cell_type": "code",
   "execution_count": 3,
   "metadata": {
    "collapsed": true
   },
   "outputs": [],
   "source": [
    "with open('actors_only.pkl', 'r') as picklefile:\n",
    "    df = pickle.load(picklefile)"
   ]
  },
  {
   "cell_type": "code",
   "execution_count": 4,
   "metadata": {
    "collapsed": false
   },
   "outputs": [
    {
     "data": {
      "text/html": [
       "<div style=\"max-height:1000px;max-width:1500px;overflow:auto;\">\n",
       "<table border=\"1\" class=\"dataframe\">\n",
       "  <thead>\n",
       "    <tr style=\"text-align: right;\">\n",
       "      <th></th>\n",
       "      <th>Actor</th>\n",
       "      <th>Total_Gross_2015_Dol</th>\n",
       "      <th>Num_Movies</th>\n",
       "      <th>Avg_Gross</th>\n",
       "      <th>Oscar</th>\n",
       "      <th>Birthday</th>\n",
       "      <th>Occupation</th>\n",
       "      <th>Gender</th>\n",
       "      <th>Occ_act_dummy</th>\n",
       "      <th>Num_months_rec_pd_15_20</th>\n",
       "      <th>Num_months_rec_pd_0_15</th>\n",
       "      <th>Age</th>\n",
       "      <th>Career_start</th>\n",
       "      <th>Career_fin</th>\n",
       "      <th>Age_start</th>\n",
       "    </tr>\n",
       "  </thead>\n",
       "  <tbody>\n",
       "    <tr>\n",
       "      <th>0</th>\n",
       "      <td>Harrison Ford</td>\n",
       "      <td>8116.1</td>\n",
       "      <td>40</td>\n",
       "      <td>202.902500</td>\n",
       "      <td>1</td>\n",
       "      <td>1942-07-13</td>\n",
       "      <td>Actor, producer</td>\n",
       "      <td>0</td>\n",
       "      <td>1</td>\n",
       "      <td>18</td>\n",
       "      <td>29</td>\n",
       "      <td>73</td>\n",
       "      <td>1966</td>\n",
       "      <td>present</td>\n",
       "      <td>24</td>\n",
       "    </tr>\n",
       "    <tr>\n",
       "      <th>1</th>\n",
       "      <td>Tom Hanks</td>\n",
       "      <td>6676.6</td>\n",
       "      <td>42</td>\n",
       "      <td>158.966667</td>\n",
       "      <td>1</td>\n",
       "      <td>1956-07-09</td>\n",
       "      <td>Actor, filmmaker</td>\n",
       "      <td>0</td>\n",
       "      <td>1</td>\n",
       "      <td>16</td>\n",
       "      <td>29</td>\n",
       "      <td>59</td>\n",
       "      <td>1978</td>\n",
       "      <td>present</td>\n",
       "      <td>22</td>\n",
       "    </tr>\n",
       "    <tr>\n",
       "      <th>3</th>\n",
       "      <td>Samuel L. Jackson</td>\n",
       "      <td>5722.3</td>\n",
       "      <td>66</td>\n",
       "      <td>86.701515</td>\n",
       "      <td>1</td>\n",
       "      <td>1948-12-21</td>\n",
       "      <td>Actor, film producer</td>\n",
       "      <td>0</td>\n",
       "      <td>1</td>\n",
       "      <td>0</td>\n",
       "      <td>39</td>\n",
       "      <td>67</td>\n",
       "      <td>1972</td>\n",
       "      <td>present</td>\n",
       "      <td>24</td>\n",
       "    </tr>\n",
       "    <tr>\n",
       "      <th>4</th>\n",
       "      <td>Morgan Freeman</td>\n",
       "      <td>5587.5</td>\n",
       "      <td>58</td>\n",
       "      <td>96.336207</td>\n",
       "      <td>1</td>\n",
       "      <td>1937-06-01</td>\n",
       "      <td>Actor, director</td>\n",
       "      <td>0</td>\n",
       "      <td>1</td>\n",
       "      <td>10</td>\n",
       "      <td>19</td>\n",
       "      <td>78</td>\n",
       "      <td>1964</td>\n",
       "      <td>present</td>\n",
       "      <td>27</td>\n",
       "    </tr>\n",
       "    <tr>\n",
       "      <th>5</th>\n",
       "      <td>Tom Cruise</td>\n",
       "      <td>5456.0</td>\n",
       "      <td>35</td>\n",
       "      <td>155.885714</td>\n",
       "      <td>1</td>\n",
       "      <td>1962-07-03</td>\n",
       "      <td>Actor, filmmaker</td>\n",
       "      <td>0</td>\n",
       "      <td>1</td>\n",
       "      <td>17</td>\n",
       "      <td>27</td>\n",
       "      <td>53</td>\n",
       "      <td>1981</td>\n",
       "      <td>present</td>\n",
       "      <td>19</td>\n",
       "    </tr>\n",
       "  </tbody>\n",
       "</table>\n",
       "</div>"
      ],
      "text/plain": [
       "               Actor  Total_Gross_2015_Dol  Num_Movies   Avg_Gross  Oscar  \\\n",
       "0      Harrison Ford                8116.1          40  202.902500      1   \n",
       "1          Tom Hanks                6676.6          42  158.966667      1   \n",
       "3  Samuel L. Jackson                5722.3          66   86.701515      1   \n",
       "4     Morgan Freeman                5587.5          58   96.336207      1   \n",
       "5         Tom Cruise                5456.0          35  155.885714      1   \n",
       "\n",
       "     Birthday            Occupation Gender Occ_act_dummy  \\\n",
       "0  1942-07-13       Actor, producer      0             1   \n",
       "1  1956-07-09      Actor, filmmaker      0             1   \n",
       "3  1948-12-21  Actor, film producer      0             1   \n",
       "4  1937-06-01       Actor, director      0             1   \n",
       "5  1962-07-03      Actor, filmmaker      0             1   \n",
       "\n",
       "   Num_months_rec_pd_15_20  Num_months_rec_pd_0_15  Age  Career_start  \\\n",
       "0                       18                      29   73          1966   \n",
       "1                       16                      29   59          1978   \n",
       "3                        0                      39   67          1972   \n",
       "4                       10                      19   78          1964   \n",
       "5                       17                      27   53          1981   \n",
       "\n",
       "  Career_fin  Age_start  \n",
       "0    present         24  \n",
       "1    present         22  \n",
       "3    present         24  \n",
       "4    present         27  \n",
       "5    present         19  "
      ]
     },
     "execution_count": 4,
     "metadata": {},
     "output_type": "execute_result"
    }
   ],
   "source": [
    "df.head()"
   ]
  },
  {
   "cell_type": "markdown",
   "metadata": {},
   "source": [
    "## Challenge 1"
   ]
  },
  {
   "cell_type": "code",
   "execution_count": 5,
   "metadata": {
    "collapsed": false
   },
   "outputs": [],
   "source": [
    "#### Load dataframe and add column of ones\n",
    "challenge_1 = pd.DataFrame(df['Avg_Gross'])\n",
    "challenge_1['Ones'] = pd.Series([1]*(len(challenge_1['Avg_Gross'])), index=challenge_1.index)"
   ]
  },
  {
   "cell_type": "code",
   "execution_count": 6,
   "metadata": {
    "collapsed": true
   },
   "outputs": [],
   "source": [
    "# Assign X (independent) and y (dependent)\n",
    "X = challenge_1.Ones\n",
    "y = challenge_1.Avg_Gross"
   ]
  },
  {
   "cell_type": "code",
   "execution_count": 7,
   "metadata": {
    "collapsed": true
   },
   "outputs": [],
   "source": [
    "# Fit model\n",
    "fit = sm.OLS(y,X).fit()"
   ]
  },
  {
   "cell_type": "code",
   "execution_count": 52,
   "metadata": {
    "collapsed": false
   },
   "outputs": [],
   "source": [
    "# X-values\n",
    "x = np.linspace(challenge_1.Avg_Gross.min(),challenge_1.Avg_Gross.max(),len(challenge_1))"
   ]
  },
  {
   "cell_type": "code",
   "execution_count": 9,
   "metadata": {
    "collapsed": false
   },
   "outputs": [],
   "source": [
    "# Predict values\n",
    "challenge_1['yhat'] = fit.predict(X)"
   ]
  },
  {
   "cell_type": "code",
   "execution_count": 10,
   "metadata": {
    "collapsed": false
   },
   "outputs": [
    {
     "data": {
      "text/html": [
       "<div style=\"max-height:1000px;max-width:1500px;overflow:auto;\">\n",
       "<table border=\"1\" class=\"dataframe\">\n",
       "  <thead>\n",
       "    <tr style=\"text-align: right;\">\n",
       "      <th></th>\n",
       "      <th>Avg_Gross</th>\n",
       "      <th>Ones</th>\n",
       "      <th>yhat</th>\n",
       "    </tr>\n",
       "  </thead>\n",
       "  <tbody>\n",
       "    <tr>\n",
       "      <th>0</th>\n",
       "      <td>202.902500</td>\n",
       "      <td>1</td>\n",
       "      <td>64.034938</td>\n",
       "    </tr>\n",
       "    <tr>\n",
       "      <th>1</th>\n",
       "      <td>158.966667</td>\n",
       "      <td>1</td>\n",
       "      <td>64.034938</td>\n",
       "    </tr>\n",
       "    <tr>\n",
       "      <th>3</th>\n",
       "      <td>86.701515</td>\n",
       "      <td>1</td>\n",
       "      <td>64.034938</td>\n",
       "    </tr>\n",
       "    <tr>\n",
       "      <th>4</th>\n",
       "      <td>96.336207</td>\n",
       "      <td>1</td>\n",
       "      <td>64.034938</td>\n",
       "    </tr>\n",
       "    <tr>\n",
       "      <th>5</th>\n",
       "      <td>155.885714</td>\n",
       "      <td>1</td>\n",
       "      <td>64.034938</td>\n",
       "    </tr>\n",
       "  </tbody>\n",
       "</table>\n",
       "</div>"
      ],
      "text/plain": [
       "    Avg_Gross  Ones       yhat\n",
       "0  202.902500     1  64.034938\n",
       "1  158.966667     1  64.034938\n",
       "3   86.701515     1  64.034938\n",
       "4   96.336207     1  64.034938\n",
       "5  155.885714     1  64.034938"
      ]
     },
     "execution_count": 10,
     "metadata": {},
     "output_type": "execute_result"
    }
   ],
   "source": [
    "challenge_1.head()"
   ]
  },
  {
   "cell_type": "code",
   "execution_count": 149,
   "metadata": {
    "collapsed": false
   },
   "outputs": [
    {
     "data": {
      "text/plain": [
       "<matplotlib.legend.Legend at 0x110c9b090>"
      ]
     },
     "execution_count": 149,
     "metadata": {},
     "output_type": "execute_result"
    },
    {
     "data": {
      "image/png": "[encoded data removed]",
      "text/plain": [
       "<matplotlib.figure.Figure at 0x110a87150>"
      ]
     },
     "metadata": {},
     "output_type": "display_data"
    }
   ],
   "source": [
    "plt.plot(x,challenge_1.Avg_Gross,'o',x,challenge_1.yhat)\n",
    "#plt.plot(challenge_1.yhat,challenge_1.Avg_Gross)\n",
    "plt.title('Actual vs Fitted data for Actor Avg Gross')\n",
    "plt.legend(['Actual', 'Fit'], loc='upper right')"
   ]
  },
  {
   "cell_type": "markdown",
   "metadata": {},
   "source": [
    "###Given a set of numbers (Avg gross per film) and a constant predictor 1, the estimated value will be the mean and the model predicts every value as such."
   ]
  },
  {
   "cell_type": "code",
   "execution_count": 56,
   "metadata": {
    "collapsed": false
   },
   "outputs": [
    {
     "data": {
      "text/plain": [
       "<seaborn.axisgrid.FacetGrid at 0x109723810>"
      ]
     },
     "execution_count": 56,
     "metadata": {},
     "output_type": "execute_result"
    },
    {
     "data": {
      "image/png": "[encoded data removed]",
      "text/plain": [
       "<matplotlib.figure.Figure at 0x10bb95590>"
      ]
     },
     "metadata": {},
     "output_type": "display_data"
    }
   ],
   "source": [
    "g = sns.FacetGrid(challenge_1, size=5)\n",
    "g.map(plt.scatter, 'Ones', 'yhat')\n",
    "g.map(plt.plot, \"Ones\", \"Avg_Gross\")"
   ]
  },
  {
   "cell_type": "code",
   "execution_count": 13,
   "metadata": {
    "collapsed": false
   },
   "outputs": [
    {
     "name": "stdout",
     "output_type": "stream",
     "text": [
      "Mean Avg Gross: 64.0349380401\n"
     ]
    }
   ],
   "source": [
    "# Check mean equals coefficient \n",
    "print \"Mean Avg Gross: \"+str(challenge_1.Avg_Gross.mean())"
   ]
  },
  {
   "cell_type": "code",
   "execution_count": 14,
   "metadata": {
    "collapsed": false
   },
   "outputs": [
    {
     "name": "stdout",
     "output_type": "stream",
     "text": [
      "                            OLS Regression Results                            \n",
      "==============================================================================\n",
      "Dep. Variable:              Avg_Gross   R-squared:                      -0.000\n",
      "Model:                            OLS   Adj. R-squared:                 -0.000\n",
      "Method:                 Least Squares   F-statistic:                      -inf\n",
      "Date:                Mon, 13 Jul 2015   Prob (F-statistic):                nan\n",
      "Time:                        11:24:13   Log-Likelihood:                -3196.7\n",
      "No. Observations:                 626   AIC:                             6395.\n",
      "Df Residuals:                     625   BIC:                             6400.\n",
      "Df Model:                           0                                         \n",
      "Covariance Type:            nonrobust                                         \n",
      "==============================================================================\n",
      "                 coef    std err          t      P>|t|      [95.0% Conf. Int.]\n",
      "------------------------------------------------------------------------------\n",
      "Ones          64.0349      1.598     40.075      0.000        60.897    67.173\n",
      "==============================================================================\n",
      "Omnibus:                      275.291   Durbin-Watson:                   1.477\n",
      "Prob(Omnibus):                  0.000   Jarque-Bera (JB):             1406.084\n",
      "Skew:                           1.943   Prob(JB):                    4.71e-306\n",
      "Kurtosis:                       9.230   Cond. No.                         1.00\n",
      "==============================================================================\n",
      "\n",
      "Warnings:\n",
      "[1] Standard Errors assume that the covariance matrix of the errors is correctly specified.\n"
     ]
    }
   ],
   "source": [
    "# This model is not fit to explain any variability in the data (R^2 == 0)\n",
    "print(fit.summary())"
   ]
  },
  {
   "cell_type": "code",
   "execution_count": 151,
   "metadata": {
    "collapsed": false
   },
   "outputs": [
    {
     "data": {
      "text/plain": [
       "<matplotlib.legend.Legend at 0x110cf2990>"
      ]
     },
     "execution_count": 151,
     "metadata": {},
     "output_type": "execute_result"
    },
    {
     "data": {
      "image/png": "[encoded data removed]",
      "text/plain": [
       "<matplotlib.figure.Figure at 0x11059ac10>"
      ]
     },
     "metadata": {},
     "output_type": "display_data"
    }
   ],
   "source": [
    "fig, ax = plt.subplots()\n",
    "ax.hist(fit.resid,bins=10)\n",
    "plt.legend(['Residuals (distance from the mean)'], loc='upper right')"
   ]
  },
  {
   "cell_type": "markdown",
   "metadata": {},
   "source": [
    "### The residual histogram displays the shape of the dataset, measuring the difference between the actual values and the mean."
   ]
  },
  {
   "cell_type": "markdown",
   "metadata": {},
   "source": [
    "## Challenge 2"
   ]
  },
  {
   "cell_type": "code",
   "execution_count": 17,
   "metadata": {
    "collapsed": false
   },
   "outputs": [],
   "source": [
    "challenge_2 = pd.DataFrame(data=[df['Avg_Gross'],df['Age_start']])"
   ]
  },
  {
   "cell_type": "code",
   "execution_count": 18,
   "metadata": {
    "collapsed": false
   },
   "outputs": [],
   "source": [
    "challenge_2 = challenge_2.transpose()"
   ]
  },
  {
   "cell_type": "code",
   "execution_count": 19,
   "metadata": {
    "collapsed": false
   },
   "outputs": [
    {
     "data": {
      "text/html": [
       "<div style=\"max-height:1000px;max-width:1500px;overflow:auto;\">\n",
       "<table border=\"1\" class=\"dataframe\">\n",
       "  <thead>\n",
       "    <tr style=\"text-align: right;\">\n",
       "      <th></th>\n",
       "      <th>Avg_Gross</th>\n",
       "      <th>Age_start</th>\n",
       "    </tr>\n",
       "  </thead>\n",
       "  <tbody>\n",
       "    <tr>\n",
       "      <th>0</th>\n",
       "      <td>202.902500</td>\n",
       "      <td>24</td>\n",
       "    </tr>\n",
       "    <tr>\n",
       "      <th>1</th>\n",
       "      <td>158.966667</td>\n",
       "      <td>22</td>\n",
       "    </tr>\n",
       "    <tr>\n",
       "      <th>3</th>\n",
       "      <td>86.701515</td>\n",
       "      <td>24</td>\n",
       "    </tr>\n",
       "    <tr>\n",
       "      <th>4</th>\n",
       "      <td>96.336207</td>\n",
       "      <td>27</td>\n",
       "    </tr>\n",
       "    <tr>\n",
       "      <th>5</th>\n",
       "      <td>155.885714</td>\n",
       "      <td>19</td>\n",
       "    </tr>\n",
       "  </tbody>\n",
       "</table>\n",
       "</div>"
      ],
      "text/plain": [
       "    Avg_Gross  Age_start\n",
       "0  202.902500         24\n",
       "1  158.966667         22\n",
       "3   86.701515         24\n",
       "4   96.336207         27\n",
       "5  155.885714         19"
      ]
     },
     "execution_count": 19,
     "metadata": {},
     "output_type": "execute_result"
    }
   ],
   "source": [
    "challenge_2.head()"
   ]
  },
  {
   "cell_type": "code",
   "execution_count": 20,
   "metadata": {
    "collapsed": false
   },
   "outputs": [],
   "source": [
    "challenge_2 = challenge_2[np.isfinite(challenge_2['Age_start'])]"
   ]
  },
  {
   "cell_type": "code",
   "execution_count": 21,
   "metadata": {
    "collapsed": false
   },
   "outputs": [
    {
     "data": {
      "text/plain": [
       "617"
      ]
     },
     "execution_count": 21,
     "metadata": {},
     "output_type": "execute_result"
    }
   ],
   "source": [
    "len(challenge_2)"
   ]
  },
  {
   "cell_type": "code",
   "execution_count": 22,
   "metadata": {
    "collapsed": true
   },
   "outputs": [],
   "source": [
    "# Assign X and y\n",
    "X = challenge_2.Age_start\n",
    "X = sm.add_constant(X)\n",
    "y = challenge_2.Avg_Gross"
   ]
  },
  {
   "cell_type": "code",
   "execution_count": 23,
   "metadata": {
    "collapsed": true
   },
   "outputs": [],
   "source": [
    "# Fit model\n",
    "fit = sm.OLS(y,X).fit()"
   ]
  },
  {
   "cell_type": "code",
   "execution_count": 24,
   "metadata": {
    "collapsed": false
   },
   "outputs": [
    {
     "name": "stdout",
     "output_type": "stream",
     "text": [
      "                            OLS Regression Results                            \n",
      "==============================================================================\n",
      "Dep. Variable:              Avg_Gross   R-squared:                       0.000\n",
      "Model:                            OLS   Adj. R-squared:                 -0.001\n",
      "Method:                 Least Squares   F-statistic:                    0.1375\n",
      "Date:                Mon, 13 Jul 2015   Prob (F-statistic):              0.711\n",
      "Time:                        11:24:14   Log-Likelihood:                -3152.0\n",
      "No. Observations:                 617   AIC:                             6308.\n",
      "Df Residuals:                     615   BIC:                             6317.\n",
      "Df Model:                           1                                         \n",
      "Covariance Type:            nonrobust                                         \n",
      "==============================================================================\n",
      "                 coef    std err          t      P>|t|      [95.0% Conf. Int.]\n",
      "------------------------------------------------------------------------------\n",
      "const         66.0457      5.059     13.056      0.000        56.111    75.980\n",
      "Age_start     -0.0940      0.254     -0.371      0.711        -0.592     0.404\n",
      "==============================================================================\n",
      "Omnibus:                      271.309   Durbin-Watson:                   1.485\n",
      "Prob(Omnibus):                  0.000   Jarque-Bera (JB):             1376.783\n",
      "Skew:                           1.943   Prob(JB):                    1.08e-299\n",
      "Kurtosis:                       9.201   Cond. No.                         62.7\n",
      "==============================================================================\n",
      "\n",
      "Warnings:\n",
      "[1] Standard Errors assume that the covariance matrix of the errors is correctly specified.\n"
     ]
    }
   ],
   "source": [
    "# This model is not fit to explain any variability in the data (R^2 == 0)\n",
    "print fit.summary()"
   ]
  },
  {
   "cell_type": "code",
   "execution_count": 62,
   "metadata": {
    "collapsed": true
   },
   "outputs": [],
   "source": [
    "# X-values\n",
    "x1 = np.linspace(challenge_2.Avg_Gross.min(),challenge_2.Avg_Gross.max(),len(challenge_2))"
   ]
  },
  {
   "cell_type": "code",
   "execution_count": 26,
   "metadata": {
    "collapsed": false
   },
   "outputs": [],
   "source": [
    "# Generate predictions\n",
    "challenge_2['yhat'] = fit.predict(X)"
   ]
  },
  {
   "cell_type": "code",
   "execution_count": 27,
   "metadata": {
    "collapsed": false
   },
   "outputs": [
    {
     "data": {
      "text/html": [
       "<div style=\"max-height:1000px;max-width:1500px;overflow:auto;\">\n",
       "<table border=\"1\" class=\"dataframe\">\n",
       "  <thead>\n",
       "    <tr style=\"text-align: right;\">\n",
       "      <th></th>\n",
       "      <th>Avg_Gross</th>\n",
       "      <th>Age_start</th>\n",
       "      <th>yhat</th>\n",
       "    </tr>\n",
       "  </thead>\n",
       "  <tbody>\n",
       "    <tr>\n",
       "      <th>0</th>\n",
       "      <td>202.902500</td>\n",
       "      <td>24</td>\n",
       "      <td>63.789054</td>\n",
       "    </tr>\n",
       "    <tr>\n",
       "      <th>1</th>\n",
       "      <td>158.966667</td>\n",
       "      <td>22</td>\n",
       "      <td>63.977104</td>\n",
       "    </tr>\n",
       "    <tr>\n",
       "      <th>3</th>\n",
       "      <td>86.701515</td>\n",
       "      <td>24</td>\n",
       "      <td>63.789054</td>\n",
       "    </tr>\n",
       "    <tr>\n",
       "      <th>4</th>\n",
       "      <td>96.336207</td>\n",
       "      <td>27</td>\n",
       "      <td>63.506978</td>\n",
       "    </tr>\n",
       "    <tr>\n",
       "      <th>5</th>\n",
       "      <td>155.885714</td>\n",
       "      <td>19</td>\n",
       "      <td>64.259180</td>\n",
       "    </tr>\n",
       "  </tbody>\n",
       "</table>\n",
       "</div>"
      ],
      "text/plain": [
       "    Avg_Gross  Age_start       yhat\n",
       "0  202.902500         24  63.789054\n",
       "1  158.966667         22  63.977104\n",
       "3   86.701515         24  63.789054\n",
       "4   96.336207         27  63.506978\n",
       "5  155.885714         19  64.259180"
      ]
     },
     "execution_count": 27,
     "metadata": {},
     "output_type": "execute_result"
    }
   ],
   "source": [
    "challenge_2.head()"
   ]
  },
  {
   "cell_type": "code",
   "execution_count": 61,
   "metadata": {
    "collapsed": false
   },
   "outputs": [
    {
     "data": {
      "text/plain": [
       "<matplotlib.legend.Legend at 0x10c555d50>"
      ]
     },
     "execution_count": 61,
     "metadata": {},
     "output_type": "execute_result"
    },
    {
     "data": {
      "image/png": "[encoded data removed]",
      "text/plain": [
       "<matplotlib.figure.Figure at 0x10b808d10>"
      ]
     },
     "metadata": {},
     "output_type": "display_data"
    }
   ],
   "source": [
    "# Plot feature variable vs Prediction (line) and Actual (scatter)\n",
    "# Not a fit\n",
    "fig, ax = plt.subplots()\n",
    "ax.plot(challenge_2.Age_start, challenge_2.yhat, 'b-', label=\"Prediction\")\n",
    "ax.plot(challenge_2.Age_start, y, 'o', label=\"True\")\n",
    "plt.legend(['Fit', 'Actual'], loc='upper right')"
   ]
  },
  {
   "cell_type": "code",
   "execution_count": 66,
   "metadata": {
    "collapsed": false
   },
   "outputs": [
    {
     "data": {
      "text/plain": [
       "<matplotlib.legend.Legend at 0x10c43df10>"
      ]
     },
     "execution_count": 66,
     "metadata": {},
     "output_type": "execute_result"
    },
    {
     "data": {
      "image/png": "[encoded data removed]",
      "text/plain": [
       "<matplotlib.figure.Figure at 0x10cc37350>"
      ]
     },
     "metadata": {},
     "output_type": "display_data"
    }
   ],
   "source": [
    "plt.plot(x1,challenge_2.Avg_Gross,'o',x1,challenge_2.yhat)\n",
    "plt.title('Actual vs Fitted data for Actor Avg Gross')\n",
    "plt.legend(['Actual', 'Fit'], loc='upper right')"
   ]
  },
  {
   "cell_type": "code",
   "execution_count": 152,
   "metadata": {
    "collapsed": false
   },
   "outputs": [
    {
     "data": {
      "text/plain": [
       "<matplotlib.collections.PathCollection at 0x110ef5310>"
      ]
     },
     "execution_count": 152,
     "metadata": {},
     "output_type": "execute_result"
    },
    {
     "data": {
      "image/png": "[encoded data removed]",
      "text/plain": [
       "<matplotlib.figure.Figure at 0x110a73e10>"
      ]
     },
     "metadata": {},
     "output_type": "display_data"
    }
   ],
   "source": [
    "# Feature variable vs Residuals\n",
    "# Chaos\n",
    "plt.scatter(challenge_2.Age_start,fit.resid)"
   ]
  },
  {
   "cell_type": "markdown",
   "metadata": {},
   "source": [
    "### The relationship between total gross of films featuring a certain actor, and the age in which an actor begins his/her career, is proven not to be linear."
   ]
  },
  {
   "cell_type": "markdown",
   "metadata": {},
   "source": [
    "## Challenge 3"
   ]
  },
  {
   "cell_type": "code",
   "execution_count": 30,
   "metadata": {
    "collapsed": true
   },
   "outputs": [],
   "source": [
    "challenge_3 = pd.DataFrame(data=[df['Avg_Gross'],df['Age_start'],df['Gender'],df['Oscar']])"
   ]
  },
  {
   "cell_type": "code",
   "execution_count": 31,
   "metadata": {
    "collapsed": true
   },
   "outputs": [],
   "source": [
    "challenge_3 = challenge_3.transpose()"
   ]
  },
  {
   "cell_type": "code",
   "execution_count": 32,
   "metadata": {
    "collapsed": true
   },
   "outputs": [],
   "source": [
    "challenge_3 = pd.DataFrame(challenge_3[np.isfinite(challenge_3['Age_start'])])"
   ]
  },
  {
   "cell_type": "code",
   "execution_count": 33,
   "metadata": {
    "collapsed": false
   },
   "outputs": [
    {
     "data": {
      "text/html": [
       "<div style=\"max-height:1000px;max-width:1500px;overflow:auto;\">\n",
       "<table border=\"1\" class=\"dataframe\">\n",
       "  <thead>\n",
       "    <tr style=\"text-align: right;\">\n",
       "      <th></th>\n",
       "      <th>Avg_Gross</th>\n",
       "      <th>Age_start</th>\n",
       "      <th>Gender</th>\n",
       "      <th>Oscar</th>\n",
       "    </tr>\n",
       "  </thead>\n",
       "  <tbody>\n",
       "    <tr>\n",
       "      <th>0</th>\n",
       "      <td>202.902500</td>\n",
       "      <td>24</td>\n",
       "      <td>0</td>\n",
       "      <td>1</td>\n",
       "    </tr>\n",
       "    <tr>\n",
       "      <th>1</th>\n",
       "      <td>158.966667</td>\n",
       "      <td>22</td>\n",
       "      <td>0</td>\n",
       "      <td>1</td>\n",
       "    </tr>\n",
       "    <tr>\n",
       "      <th>3</th>\n",
       "      <td>86.701515</td>\n",
       "      <td>24</td>\n",
       "      <td>0</td>\n",
       "      <td>1</td>\n",
       "    </tr>\n",
       "    <tr>\n",
       "      <th>4</th>\n",
       "      <td>96.336207</td>\n",
       "      <td>27</td>\n",
       "      <td>0</td>\n",
       "      <td>1</td>\n",
       "    </tr>\n",
       "    <tr>\n",
       "      <th>5</th>\n",
       "      <td>155.885714</td>\n",
       "      <td>19</td>\n",
       "      <td>0</td>\n",
       "      <td>1</td>\n",
       "    </tr>\n",
       "  </tbody>\n",
       "</table>\n",
       "</div>"
      ],
      "text/plain": [
       "    Avg_Gross  Age_start  Gender  Oscar\n",
       "0  202.902500         24       0      1\n",
       "1  158.966667         22       0      1\n",
       "3   86.701515         24       0      1\n",
       "4   96.336207         27       0      1\n",
       "5  155.885714         19       0      1"
      ]
     },
     "execution_count": 33,
     "metadata": {},
     "output_type": "execute_result"
    }
   ],
   "source": [
    "challenge_3.head()"
   ]
  },
  {
   "cell_type": "code",
   "execution_count": 34,
   "metadata": {
    "collapsed": true
   },
   "outputs": [],
   "source": [
    "y, X = dmatrices('Avg_Gross ~ Age_start + Gender + Oscar', data=challenge_3, return_type='dataframe')"
   ]
  },
  {
   "cell_type": "code",
   "execution_count": 35,
   "metadata": {
    "collapsed": true
   },
   "outputs": [],
   "source": [
    "fit = sm.OLS(y, X).fit()"
   ]
  },
  {
   "cell_type": "code",
   "execution_count": 36,
   "metadata": {
    "collapsed": false
   },
   "outputs": [
    {
     "name": "stdout",
     "output_type": "stream",
     "text": [
      "                            OLS Regression Results                            \n",
      "==============================================================================\n",
      "Dep. Variable:              Avg_Gross   R-squared:                       0.025\n",
      "Model:                            OLS   Adj. R-squared:                  0.021\n",
      "Method:                 Least Squares   F-statistic:                     5.330\n",
      "Date:                Mon, 13 Jul 2015   Prob (F-statistic):            0.00125\n",
      "Time:                        11:24:16   Log-Likelihood:                -3144.1\n",
      "No. Observations:                 617   AIC:                             6296.\n",
      "Df Residuals:                     613   BIC:                             6314.\n",
      "Df Model:                           3                                         \n",
      "Covariance Type:            nonrobust                                         \n",
      "==============================================================================\n",
      "                 coef    std err          t      P>|t|      [95.0% Conf. Int.]\n",
      "------------------------------------------------------------------------------\n",
      "Intercept     73.0616      5.457     13.388      0.000        62.345    83.779\n",
      "Age_start     -0.3260      0.258     -1.265      0.206        -0.832     0.180\n",
      "Gender       -11.6999      3.308     -3.537      0.000       -18.196    -5.204\n",
      "Oscar          6.8399      3.517      1.945      0.052        -0.066    13.746\n",
      "==============================================================================\n",
      "Omnibus:                      276.918   Durbin-Watson:                   1.574\n",
      "Prob(Omnibus):                  0.000   Jarque-Bera (JB):             1475.101\n",
      "Skew:                           1.970   Prob(JB):                         0.00\n",
      "Kurtosis:                       9.469   Cond. No.                         71.1\n",
      "==============================================================================\n",
      "\n",
      "Warnings:\n",
      "[1] Standard Errors assume that the covariance matrix of the errors is correctly specified.\n"
     ]
    }
   ],
   "source": [
    "# The incorporation of more variables helps to explain a bit more of the variability in the data (R^2 == .025)\n",
    "print fit.summary()"
   ]
  },
  {
   "cell_type": "code",
   "execution_count": 37,
   "metadata": {
    "collapsed": false
   },
   "outputs": [],
   "source": [
    "challenge_3['yhat'] = fit.predict(X)"
   ]
  },
  {
   "cell_type": "code",
   "execution_count": 38,
   "metadata": {
    "collapsed": false
   },
   "outputs": [
    {
     "data": {
      "text/plain": [
       "<seaborn.axisgrid.FacetGrid at 0x109376750>"
      ]
     },
     "execution_count": 38,
     "metadata": {},
     "output_type": "execute_result"
    },
    {
     "data": {
      "image/png": "[encoded data removed]",
      "text/plain": [
       "<matplotlib.figure.Figure at 0x10918d250>"
      ]
     },
     "metadata": {},
     "output_type": "display_data"
    }
   ],
   "source": [
    "sns.lmplot(x=\"Age_start\", y=\"Avg_Gross\",\n",
    "           col=\"Gender\", row=\"Oscar\", data=challenge_3)"
   ]
  },
  {
   "cell_type": "markdown",
   "metadata": {},
   "source": [
    "### Being both male and an Oscar winner/nominee is positively correlated with Avg gross per film."
   ]
  },
  {
   "cell_type": "markdown",
   "metadata": {},
   "source": [
    "## Challenge 4"
   ]
  },
  {
   "cell_type": "code",
   "execution_count": 39,
   "metadata": {
    "collapsed": false
   },
   "outputs": [],
   "source": [
    "challenge_4 = pd.DataFrame(data=[df['Avg_Gross'],df['Age_start'],df['Num_Movies'],df['Gender'],df['Oscar'],df['Num_months_rec_pd_0_15'],df['Num_months_rec_pd_15_20']])"
   ]
  },
  {
   "cell_type": "code",
   "execution_count": 40,
   "metadata": {
    "collapsed": true
   },
   "outputs": [],
   "source": [
    "challenge_4 = challenge_4.transpose()"
   ]
  },
  {
   "cell_type": "code",
   "execution_count": 41,
   "metadata": {
    "collapsed": false
   },
   "outputs": [
    {
     "data": {
      "text/html": [
       "<div style=\"max-height:1000px;max-width:1500px;overflow:auto;\">\n",
       "<table border=\"1\" class=\"dataframe\">\n",
       "  <thead>\n",
       "    <tr style=\"text-align: right;\">\n",
       "      <th></th>\n",
       "      <th>Avg_Gross</th>\n",
       "      <th>Age_start</th>\n",
       "      <th>Num_Movies</th>\n",
       "      <th>Gender</th>\n",
       "      <th>Oscar</th>\n",
       "      <th>Num_months_rec_pd_0_15</th>\n",
       "      <th>Num_months_rec_pd_15_20</th>\n",
       "    </tr>\n",
       "  </thead>\n",
       "  <tbody>\n",
       "    <tr>\n",
       "      <th>0</th>\n",
       "      <td>202.902500</td>\n",
       "      <td>24</td>\n",
       "      <td>40</td>\n",
       "      <td>0</td>\n",
       "      <td>1</td>\n",
       "      <td>29</td>\n",
       "      <td>18</td>\n",
       "    </tr>\n",
       "    <tr>\n",
       "      <th>1</th>\n",
       "      <td>158.966667</td>\n",
       "      <td>22</td>\n",
       "      <td>42</td>\n",
       "      <td>0</td>\n",
       "      <td>1</td>\n",
       "      <td>29</td>\n",
       "      <td>16</td>\n",
       "    </tr>\n",
       "    <tr>\n",
       "      <th>3</th>\n",
       "      <td>86.701515</td>\n",
       "      <td>24</td>\n",
       "      <td>66</td>\n",
       "      <td>0</td>\n",
       "      <td>1</td>\n",
       "      <td>39</td>\n",
       "      <td>0</td>\n",
       "    </tr>\n",
       "    <tr>\n",
       "      <th>4</th>\n",
       "      <td>96.336207</td>\n",
       "      <td>27</td>\n",
       "      <td>58</td>\n",
       "      <td>0</td>\n",
       "      <td>1</td>\n",
       "      <td>19</td>\n",
       "      <td>10</td>\n",
       "    </tr>\n",
       "    <tr>\n",
       "      <th>5</th>\n",
       "      <td>155.885714</td>\n",
       "      <td>19</td>\n",
       "      <td>35</td>\n",
       "      <td>0</td>\n",
       "      <td>1</td>\n",
       "      <td>27</td>\n",
       "      <td>17</td>\n",
       "    </tr>\n",
       "  </tbody>\n",
       "</table>\n",
       "</div>"
      ],
      "text/plain": [
       "    Avg_Gross  Age_start  Num_Movies  Gender  Oscar  Num_months_rec_pd_0_15  \\\n",
       "0  202.902500         24          40       0      1                      29   \n",
       "1  158.966667         22          42       0      1                      29   \n",
       "3   86.701515         24          66       0      1                      39   \n",
       "4   96.336207         27          58       0      1                      19   \n",
       "5  155.885714         19          35       0      1                      27   \n",
       "\n",
       "   Num_months_rec_pd_15_20  \n",
       "0                       18  \n",
       "1                       16  \n",
       "3                        0  \n",
       "4                       10  \n",
       "5                       17  "
      ]
     },
     "execution_count": 41,
     "metadata": {},
     "output_type": "execute_result"
    }
   ],
   "source": [
    "challenge_4 = pd.DataFrame(challenge_4[np.isfinite(challenge_4['Age_start'])])\n",
    "challenge_4.head()"
   ]
  },
  {
   "cell_type": "code",
   "execution_count": 139,
   "metadata": {
    "collapsed": false
   },
   "outputs": [],
   "source": [
    "y, X = dmatrices('Avg_Gross ~ Age_start + Num_Movies + Gender + Oscar + Num_months_rec_pd_0_15 + Num_months_rec_pd_15_20', \n",
    "                 data=challenge_4, return_type='dataframe')"
   ]
  },
  {
   "cell_type": "code",
   "execution_count": 140,
   "metadata": {
    "collapsed": false
   },
   "outputs": [],
   "source": [
    "fit = sm.OLS(y, X).fit()"
   ]
  },
  {
   "cell_type": "code",
   "execution_count": 141,
   "metadata": {
    "collapsed": false
   },
   "outputs": [],
   "source": [
    "challenge_4['yhat'] = fit.predict(X)"
   ]
  },
  {
   "cell_type": "code",
   "execution_count": 142,
   "metadata": {
    "collapsed": false
   },
   "outputs": [
    {
     "name": "stdout",
     "output_type": "stream",
     "text": [
      "                            OLS Regression Results                            \n",
      "==============================================================================\n",
      "Dep. Variable:              Avg_Gross   R-squared:                       0.032\n",
      "Model:                            OLS   Adj. R-squared:                  0.023\n",
      "Method:                 Least Squares   F-statistic:                     3.403\n",
      "Date:                Mon, 13 Jul 2015   Prob (F-statistic):            0.00261\n",
      "Time:                        12:14:38   Log-Likelihood:                -3141.9\n",
      "No. Observations:                 617   AIC:                             6298.\n",
      "Df Residuals:                     610   BIC:                             6329.\n",
      "Df Model:                           6                                         \n",
      "Covariance Type:            nonrobust                                         \n",
      "===========================================================================================\n",
      "                              coef    std err          t      P>|t|      [95.0% Conf. Int.]\n",
      "-------------------------------------------------------------------------------------------\n",
      "Intercept                  74.0156      6.725     11.006      0.000        60.808    87.223\n",
      "Age_start                  -0.2749      0.268     -1.026      0.306        -0.801     0.252\n",
      "Num_Movies                 -0.0702      0.154     -0.455      0.649        -0.373     0.233\n",
      "Gender                    -11.9209      3.369     -3.539      0.000       -18.536    -5.306\n",
      "Oscar                       7.4587      4.096      1.821      0.069        -0.585    15.502\n",
      "Num_months_rec_pd_0_15     -0.1221      0.162     -0.753      0.452        -0.440     0.196\n",
      "Num_months_rec_pd_15_20     0.3642      0.263      1.384      0.167        -0.153     0.881\n",
      "==============================================================================\n",
      "Omnibus:                      267.015   Durbin-Watson:                   1.542\n",
      "Prob(Omnibus):                  0.000   Jarque-Bera (JB):             1363.564\n",
      "Skew:                           1.903   Prob(JB):                    8.05e-297\n",
      "Kurtosis:                       9.209   Cond. No.                         180.\n",
      "==============================================================================\n",
      "\n",
      "Warnings:\n",
      "[1] Standard Errors assume that the covariance matrix of the errors is correctly specified.\n"
     ]
    }
   ],
   "source": [
    "print fit.summary()"
   ]
  },
  {
   "cell_type": "code",
   "execution_count": 145,
   "metadata": {
    "collapsed": false
   },
   "outputs": [
    {
     "data": {
      "text/plain": [
       "<matplotlib.text.Text at 0x110407190>"
      ]
     },
     "execution_count": 145,
     "metadata": {},
     "output_type": "execute_result"
    },
    {
     "data": {
      "image/png": "[encoded data removed]",
      "text/plain": [
       "<matplotlib.figure.Figure at 0x110346810>"
      ]
     },
     "metadata": {},
     "output_type": "display_data"
    }
   ],
   "source": [
    "x1 = np.linspace(challenge_4.Avg_Gross.min(),challenge_4.Avg_Gross.max(),\n",
    "                 len(challenge_4.Avg_Gross))\n",
    "fig, ax = plt.subplots()\n",
    "ax.plot(x1, challenge_4.yhat, 'b-', label=\"Prediction\")\n",
    "ax.plot(x1, challenge_4.Avg_Gross, 'o', label=\"Actual\")\n",
    "ax.legend(loc=\"best\")\n",
    "plt.title(\"Actual vs Predicted Values\")"
   ]
  },
  {
   "cell_type": "markdown",
   "metadata": {},
   "source": [
    "## Challenge 5"
   ]
  },
  {
   "cell_type": "code",
   "execution_count": 132,
   "metadata": {
    "collapsed": false
   },
   "outputs": [
    {
     "data": {
      "text/plain": [
       "475"
      ]
     },
     "execution_count": 132,
     "metadata": {},
     "output_type": "execute_result"
    }
   ],
   "source": [
    "split = int(round(len(challenge_4)/1.3))\n",
    "split # 3/4 of data"
   ]
  },
  {
   "cell_type": "code",
   "execution_count": 111,
   "metadata": {
    "collapsed": true
   },
   "outputs": [],
   "source": [
    "challenge_4 = challenge_4.reset_index(drop=True)"
   ]
  },
  {
   "cell_type": "code",
   "execution_count": 124,
   "metadata": {
    "collapsed": false
   },
   "outputs": [],
   "source": [
    "indices = np.random.permutation(challenge_4.shape[0]) # shuffle indices\n",
    "training_idx, test_idx = indices[:split], indices[split:] \n",
    "df_tr = challenge_4.loc[training_idx] # partition data for training\n",
    "df_ts = challenge_4.loc[test_idx] # partition data for testing"
   ]
  },
  {
   "cell_type": "code",
   "execution_count": 125,
   "metadata": {
    "collapsed": false
   },
   "outputs": [],
   "source": [
    "# Training set\n",
    "y, X = dmatrices('Avg_Gross ~ Age_start + Num_Movies + Gender + Oscar + Num_months_rec_pd_0_15 + Num_months_rec_pd_15_20', \n",
    "                 data=df_tr, return_type='dataframe')"
   ]
  },
  {
   "cell_type": "code",
   "execution_count": 127,
   "metadata": {
    "collapsed": true
   },
   "outputs": [],
   "source": [
    "# Test set\n",
    "y_ts, X_ts = dmatrices('Avg_Gross ~ Age_start + Num_Movies + Gender + Oscar + Num_months_rec_pd_0_15 + Num_months_rec_pd_15_20', \n",
    "                 data=df_ts, return_type='dataframe')"
   ]
  },
  {
   "cell_type": "code",
   "execution_count": 137,
   "metadata": {
    "collapsed": true
   },
   "outputs": [],
   "source": [
    "fit = sm.OLS(y, X).fit()"
   ]
  },
  {
   "cell_type": "code",
   "execution_count": 129,
   "metadata": {
    "collapsed": true
   },
   "outputs": [],
   "source": [
    "test = fit.predict(X_ts)"
   ]
  },
  {
   "cell_type": "code",
   "execution_count": 146,
   "metadata": {
    "collapsed": false
   },
   "outputs": [
    {
     "data": {
      "text/plain": [
       "<matplotlib.text.Text at 0x1105c74d0>"
      ]
     },
     "execution_count": 146,
     "metadata": {},
     "output_type": "execute_result"
    },
    {
     "data": {
      "image/png": "[encoded data removed]",
      "text/plain": [
       "<matplotlib.figure.Figure at 0x10ffa8110>"
      ]
     },
     "metadata": {},
     "output_type": "display_data"
    }
   ],
   "source": [
    "fig, ax = plt.subplots()\n",
    "ax.plot(y_ts, 'o', label=\"Actual\")\n",
    "ax.plot(test, 'b-', label=\"OLS prediction\")\n",
    "ax.legend(loc=\"best\")\n",
    "plt.title(\"Actual vs Predicted Values\")"
   ]
  },
  {
   "cell_type": "code",
   "execution_count": 138,
   "metadata": {
    "collapsed": false
   },
   "outputs": [
    {
     "data": {
      "text/plain": [
       "<matplotlib.legend.Legend at 0x10fb036d0>"
      ]
     },
     "execution_count": 138,
     "metadata": {},
     "output_type": "execute_result"
    },
    {
     "data": {
      "image/png": "[encoded data removed]",
      "text/plain": [
       "<matplotlib.figure.Figure at 0x10fdc2a50>"
      ]
     },
     "metadata": {},
     "output_type": "display_data"
    }
   ],
   "source": [
    "fig, ax = plt.subplots()\n",
    "ax.hist(challenge_4.Avg_Gross,bins=10)\n",
    "ax.hist(fit.resid,bins=10)\n",
    "plt.legend(['Observations', 'Residuals of model'], loc='upper right')"
   ]
  },
  {
   "cell_type": "code",
   "execution_count": null,
   "metadata": {
    "collapsed": true
   },
   "outputs": [],
   "source": []
  }
 ],
 "metadata": {
  "kernelspec": {
   "display_name": "Python 2",
   "language": "python",
   "name": "python2"
  },
  "language_info": {
   "codemirror_mode": {
    "name": "ipython",
    "version": 2
   },
   "file_extension": ".py",
   "mimetype": "text/x-python",
   "name": "python",
   "nbconvert_exporter": "python",
   "pygments_lexer": "ipython2",
   "version": "2.7.10"
  }
 },
 "nbformat": 4,
 "nbformat_minor": 0
}
